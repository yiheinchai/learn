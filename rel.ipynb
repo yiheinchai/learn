{
 "cells": [
  {
   "attachments": {},
   "cell_type": "markdown",
   "metadata": {},
   "source": [
    "# Resolving and comforting"
   ]
  },
  {
   "cell_type": "code",
   "execution_count": null,
   "metadata": {},
   "outputs": [],
   "source": [
    "def call_gpt():\n",
    "    return False\n",
    "\n",
    "def detect_angry():\n",
    "    is_angry = input(\"Are you angry? yes or no\")\n",
    "    return is_angry == 'yes'\n",
    "\n",
    "def resolve_anger():\n",
    "    situation = input(\"Tell me more about why you are unhappy\")\n",
    "    is_anger_target_external = call_gpt(\"Based on this situation of a perosn who is angry, determine if the cause of the anger is due to the person they are talking to, or due to external reasons\")\n",
    "\n",
    "    if is_anger_target_external:\n",
    "        is_solvable = call_gpt(f\"Is this situation solvable by the person reading this?  Situation:{situation}\")\n",
    "\n",
    "        if is_solvable:\n",
    "            solution = call_gpt(f\"Suggest solutions to solve this problem. Problem:{situation}\")\n",
    "            print(solution)\n",
    "            print(\"giving you some ice cream...\")\n",
    "\n",
    "        else:\n",
    "            distraction = call_gpt(f\"Generation some distractions to put the attention of the person away from the thing they are worrying about or unhappy about\")\n",
    "            print(distraction)\n",
    "\n",
    "    else:\n",
    "        print(\"I am sorry, I am wrong\")\n",
    "        print(\"I won't do this next time\")\n",
    "        print(\"Please don't be angry\")\n",
    "\n",
    "    "
   ]
  }
 ],
 "metadata": {
  "language_info": {
   "name": "python"
  },
  "orig_nbformat": 4
 },
 "nbformat": 4,
 "nbformat_minor": 2
}
