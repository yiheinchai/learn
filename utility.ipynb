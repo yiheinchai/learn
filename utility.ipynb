{
 "cells": [
  {
   "cell_type": "code",
   "execution_count": 3,
   "metadata": {},
   "outputs": [
    {
     "name": "stdout",
     "output_type": "stream",
     "text": [
      "['ANRV', 'NE', 'ARI', 'T', 'HD', 'HD', 'HD', 'ANRV', 'NE', 'ARI', 'INTRODUCTION', 'GENERAL PROPERTIES', 'LANDMARK CONTROL OF THE\\nPREFERRED FIRINGDIRECTION', 'BRAIN AREAS THAT CONTAIN\\nHD CELLS', 'GENERATION OF THE HD\\nSIGNAL', 'LESION STUDIES', 'SUBCORTICAL ROLE IN\\nSIGNAL GENERATION', 'VESTIBULAR PATHWAYS TO\\nTHE HD CELL CIRCUIT', 'ROLE OF MOTOR SYSTEMS IN\\nDIRECTIONAL FIRING', 'PATH INTEGRATION', 'INTRODUCTION\\nO', 'HD', 'T', 'HD', 'HD', 'HD', 'T', 'HD', 'T', 'ANRV', 'NE', 'ARI', 'HD', 'T', 'HD', 'T', 'T', 'T', 'HD', 'HD', 'HD', 'GENERAL PROPERTIES\\nT', 'HD', 'T', 'HD', 'HD', 'HD', 'T', 'HD', 'HD', 'HD', 'HD', 'A', 'ANRV', 'NE', 'ARI', 'HD', 'ADN HD', 'TTX', 'ADN HD', 'S HD', 'T', 'HD', 'T', 'HD', 'T', 'HD', 'T', 'ANRV', 'NE', 'ARI', 'HD', 'A', 'HD', 'HD', 'HD', 'T', 'HD', 'T', 'HD', 'T', 'ANRV', 'NE', 'ARI', 'LANDMARK CONTROL OF THE\\nPREFERRED FIRINGDIRECTION\\nT', 'HD', 'HD', 'HD', 'HD', 'T', 'T', 'T', 'T', 'HD', 'HD', 'HD', 'HD', 'HD', 'HD', 'HD', 'T', 'HD', 'T', 'ANRV', 'NE', 'ARI', 'HD', 'HD', 'T', 'HD', 'HD', 'BRAIN AREAS THAT CONTAIN\\nHD CELLS\\nHD', 'ADN', 'LMN', 'DTN', 'ANATOMICAL NOMENCLATURE', 'POSTSUBICULUM\\nS', 'HD', 'T', 'HD', 'ADN', 'T', 'LMN', 'T', 'HD', 'FR', 'AG', 'CA', 'DTN', 'T', 'HD', 'HD', 'ANRV', 'NE', 'ARI', 'ATI', 'HD', 'HD', 'ADN', 'T', 'T', 'HD', 'HD', 'LMN HD', 'ADN HD', 'LMN', 'T', 'HD', 'ADN', 'LMN', 'T', 'HD', 'ADN', 'T', 'ATI', 'ADN', 'ATI', 'LMN HD', 'T', 'HD', 'HD', 'S', 'HD', 'HD', 'ADN HD', 'ATI', 'ATI', 'ATI', 'ATI', 'HD', 'HD', 'S', 'ADN HD', 'HD', 'HD', 'ADN', 'T', 'T', 'HD', 'HD', 'HD', 'T', 'LMN', 'T', 'T', 'ANRV', 'NE', 'ARI', 'DTN', 'HD', 'T', 'HD', 'DTN', 'HD', 'U', 'GENERATION OF THE HD\\nSIGNAL', 'LESION STUDIES\\nHD', 'S', 'ADN', 'S', 'HD', 'S', 'S', 'HD', 'ADN', 'S', 'LMN', 'DTN', 'S', 'T', 'T', 'T', 'T', 'HD', 'ADN', 'ADN', 'HD', 'S', 'T', 'LMN', 'DTN', 'HD', 'ADN', 'S', 'LMN', 'HD', 'ADN', 'ADN HD', 'T', 'T', 'ANRV', 'NE', 'ARI', 'TABLE', 'HD', 'DTN L', 'DTN', 'LMN G', 'LMN', 'ADN H', 'ADN', 'LMN', 'DTN H', 'ADN', 'LMN A', 'ADN', 'ADN', 'DTN C', 'DTN', 'DTN', 'DTN', 'DTN', 'DTN L', 'HD', 'T', 'LMN', 'S', 'T', 'ANRV', 'NE', 'ARI', 'HD', 'AHV', 'HD', 'AHV', 'LMN', 'HD', 'AHV', 'HD', 'ADN', 'DTN', 'ADN', 'DTN', 'LMN', 'ADN', 'S', 'HD', 'HD', 'HD', 'ANRV', 'NE', 'ARI', 'S', 'ADN HD', 'T', 'HD', 'S', 'S', 'S', 'S', 'S', 'S', 'SUBCORTICAL ROLE IN SIGNAL\\nGENERATION\\nB', 'T', 'HD', 'T', 'HD', 'ADN', 'HD', 'S', 'HD', 'HD', 'HD', 'ADN', 'ADN', 'HD', 'HD', 'T', 'ANRV', 'NE', 'ARI', 'HD', 'HD', 'ADN', 'HD', 'HD', 'T', 'ATTRACTOR NETWORKS\\nC', 'HD', 'HD', 'VIII', 'HD', 'HD', 'HD', 'HD', 'HD', 'HD', 'HD', 'ANRV', 'NE', 'ARI', 'T', 'T', 'VESTIBULAR PATHWAYS TO\\nTHE HD CELL CIRCUIT\\nG', 'LMN', 'LMN', 'LMN', 'DTN', 'GABA', 'DTN', 'LMN', 'DTN', 'T', 'DTN', 'T', 'T', 'DTN', 'CW CCW', 'AHV', 'DTN', 'AHV', 'CW', 'CCW', 'AHV', 'CW', 'CCW', 'CCW', 'CW', 'AHV', 'CW', 'CCW', 'CW', 'CCW', 'T', 'T', 'ANRV', 'NE', 'ARI', 'AHV', 'HD', 'AHV', 'DTN', 'DTN', 'HD', 'DTN', 'LMN', 'DTN', 'HD', 'LMN', 'AHV', 'LMN', 'T', 'LMN', 'AHV', 'AHV', 'AHV', 'LMN', 'AHV', 'AHV', 'DTN', 'LMN AHV', 'DTN', 'LMN', 'DTN', 'DTN', 'LMN', 'S', 'AHV', 'AHV', 'DTN', 'DTN', 'LMN', 'A', 'T', 'ADN', 'DTN', 'ANRV', 'NE', 'ARI', 'HD', 'DTN', 'LMN', 'ADN', 'DTN', 'DTN', 'LMN', 'HD', 'ROLE OF MOTOR SYSTEMS IN\\nDIRECTIONAL FIRING\\nA', 'HD', 'T', 'HD', 'HD', 'HD', 'S', 'T', 'HD', 'ADN', 'T', 'T', 'ANRV', 'NE', 'ARI', 'ADN HD', 'HD', 'T', 'HD', 'HD', 'AHV', 'ANRV', 'NE', 'ARI', 'DTN', 'AHV', 'DTN', 'LMN', 'HD', 'AHV', 'DTN', 'DTN', 'HD', 'HD', 'DTN', 'AHV', 'DTN', 'DTN', 'PATH INTEGRATION\\nB', 'T', 'ANRV', 'NE', 'ARI', 'A', 'ADN', 'DTN', 'DTN', 'DTN', 'T', 'CA', 'CA', 'HD', 'T', 'ADN HD', 'HD', 'ADN', 'T', 'ANRV', 'NE', 'ARI', 'T', 'S', 'ADN HD', 'T', 'ADN', 'HD', 'ADN', 'LMN', 'HD', 'SUMMARY POINTS', 'HD', 'HD', 'HD', 'HD', 'DTN', 'DTN', 'LMN', 'ADN', 'FUTURE ISSUES', 'HD', 'A', 'HD', 'HD', 'T', 'ANRV', 'NE', 'ARI', 'HD', 'HD', 'A', 'HD', 'HD', 'ACKNOWLEDGMENTS\\nT', 'NINDS NS', 'LITERATURE CITED\\nA', 'GV', 'DA', 'BL', 'D', 'MB', 'SI', 'JS', 'JP', 'T', 'JS', 'JP', 'T', 'JS', 'JP', 'T', 'ML', 'T', 'JS', 'JP', 'MB', 'GM', 'EJ', 'RU', 'T', 'JS', 'PJ', 'AM', 'CE J', 'AM', 'NS', 'HT', 'PE', 'ANRV', 'NE', 'ARI', 'HT', 'PE', 'HT', 'PE', 'HT', 'PE', 'JE', 'JP', 'BJ', 'MP', 'TJ', 'JL', 'RW', 'JP', 'WB', 'PA', 'T', 'JS', 'JL', 'T', 'JS', 'LL', 'LH', 'EJ', 'CA', 'BL', 'PE', 'BA', 'HRP', 'KE', 'JE', 'LM', 'EN', 'T', 'RJ', 'JP', 'T', 'JS', 'MC', 'T', 'DS', 'A', 'CR', 'MA', 'MIT P', 'EJ', 'T', 'JS', 'USA', 'EJ', 'T', 'JS', 'EJ', 'DA', 'T', 'JS', 'JP', 'PA', 'KA', 'EJ', 'T', 'JS', 'T', 'ANRV', 'NE', 'ARI', 'JP', 'T', 'JS', 'JP', 'T', 'JS', 'HJ', 'SN', 'NW', 'WJH', 'HJ', 'CA', 'PHA', 'MB', 'EI', 'MS', 'T', 'JZ', 'T', 'DW', 'A', 'SY', 'RJ', 'T', 'JS', 'JJ', 'HS', 'BL', 'JJ', 'HS', 'BL', 'HC', 'PH', 'KE', 'SJ', 'CA', 'LE', 'IQ', 'RA', 'RA', 'GT', 'JL', 'AF', 'ANRV', 'NE', 'ARI', 'BL', 'CA', 'JL', 'MW', 'BL', 'FP', 'EI', 'MB', 'BL', 'LL', 'EJ', 'SJY', 'CB', 'KM', 'SI W', 'JS T', 'MA', 'MIT P', 'SJY', 'KE', 'BG', 'SJ', 'JD', 'GM', 'JP', 'TP', 'LB', 'T', 'JS', 'GM', 'T', 'JS', 'GM', 'T', 'JS', 'RU', 'A', 'GJ', 'RU', 'JL', 'JB J', 'JB J', 'VOR', 'AD', 'AN', 'T', 'DS', 'A', 'RG', 'ET', 'DA', 'JE', 'KE', 'JE', 'KE', 'T', 'ANRV', 'NE', 'ARI', 'BL', 'MP', 'MN', 'WT', 'PE', 'PE', 'HT', 'PE', 'PE', 'PE', 'PE', 'T', 'T', 'T', 'T', 'MT', 'WE', 'JJ', 'HS', 'BL', 'A', 'G T', 'DS T', 'TK L', 'MA', 'MIT P', 'WR', 'EPSP', 'XJ', 'JM', 'ANRV', 'NE', 'ARI', 'JM', 'RW', 'AS', 'T', 'JS', 'RW', 'EJ', 'JP', 'T', 'JS', 'RW', 'T', 'JS', 'RW', 'T', 'JS', 'RW', 'T', 'ML', 'T', 'JS', 'RW', 'MB', 'SI W', 'JS T', 'MA', 'MIT P', 'T', 'JS', 'T', 'JS', 'T', 'JS', 'JP', 'T', 'JS', 'JP', 'T', 'JS', 'HL', 'T', 'JS', 'RU', 'T', 'JS', 'RU', 'JB J', 'T', 'JS', 'RU', 'JB J', 'II', 'T', 'JS', 'BJ', 'RT', 'SM', 'RT', 'SM', 'II', 'AM', 'JS', 'CI', 'DA', 'JM', 'JM', 'T', 'ANRV', 'NE', 'ARI', 'JM', 'JM', 'JM', 'JM', 'SD', 'JP', 'BA', 'MW', 'GA', 'NB', 'G P', 'IQ', 'CL', 'SI', 'SI', 'MB', 'SI', 'T', 'JS', 'MA', 'MIT P', 'TR', 'GABA', 'JJ', 'MB', 'SI', 'MB', 'SI', 'RC', 'MB', 'T', 'SI', 'MB', 'T', 'SI', 'RELATED RESOURCES\\nB', 'JE', 'BJ', 'T', 'JS', 'AS', 'KJ', 'AR', 'FM ARI', 'A N', 'T', 'T', 'P', 'CNS S', 'T', 'T', 'AR', 'FM ARI', 'P', 'T', 'CNS S', 'T', 'F', 'T']\n"
     ]
    }
   ],
   "source": [
    "path = '/Users/yiheinchai/Library/CloudStorage/OneDrive-UniversityCollegeLondon/Lecture Slides/NEUR0014/NEUR0014_02_02_head_direction_cells.pdf'\n",
    "\n",
    "# Import the PyPDF2 and re modules\n",
    "import PyPDF2\n",
    "import re\n",
    "\n",
    "# Define a regular expression to match headings\n",
    "# Assuming headings are in uppercase, bold, or larger font size\n",
    "heading_regex = re.compile(r'([A-Z][A-Z\\s]+)|(\\s*\\n\\s*\\n[A-Z][A-Za-z\\s]+\\n)|(<font size=\"\\d+\">[A-Za-z\\s]+</font>)')\n",
    "\n",
    "# Open the pdf file in read mode\n",
    "pdf_file = open(path, 'rb')\n",
    "\n",
    "# Create a pdf reader object\n",
    "pdf_reader = PyPDF2.PdfFileReader(pdf_file)\n",
    "\n",
    "# Get the number of pages in the pdf file\n",
    "num_pages = pdf_reader.numPages\n",
    "\n",
    "# Initialize an empty list to store the headings\n",
    "headings = []\n",
    "\n",
    "# Loop through each page and extract the headings\n",
    "for page in range(num_pages):\n",
    "    # Get the page object\n",
    "    pdf_page = pdf_reader.getPage(page)\n",
    "    # Extract the text from the page\n",
    "    page_text = pdf_page.extractText()\n",
    "    # Find all the matches of the heading regex in the text\n",
    "    matches = heading_regex.findall(page_text)\n",
    "    # Loop through each match and append it to the list\n",
    "    for match in matches:\n",
    "        # Get the first non-empty group of the match\n",
    "        heading = next(filter(None, match))\n",
    "        # Strip any leading or trailing whitespace\n",
    "        heading = heading.strip()\n",
    "        # Append the heading to the list\n",
    "        headings.append(heading)\n",
    "\n",
    "# Close the pdf file\n",
    "pdf_file.close()\n",
    "\n",
    "# Print the headings\n",
    "print(headings)\n",
    "\n"
   ]
  }
 ],
 "metadata": {
  "kernelspec": {
   "display_name": "base",
   "language": "python",
   "name": "python3"
  },
  "language_info": {
   "codemirror_mode": {
    "name": "ipython",
    "version": 3
   },
   "file_extension": ".py",
   "mimetype": "text/x-python",
   "name": "python",
   "nbconvert_exporter": "python",
   "pygments_lexer": "ipython3",
   "version": "3.11.5"
  }
 },
 "nbformat": 4,
 "nbformat_minor": 2
}
