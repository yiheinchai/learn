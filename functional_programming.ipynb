{
 "cells": [
  {
   "cell_type": "markdown",
   "metadata": {},
   "source": [
    "Functors - allows you to chain operations together in a elegant pipeline manner (similar to JS chain). There is an initial functor that puts the data into a wrapper (box). And then you can just do map operations to transform the content in the box. To be clear, map takes the content out of the box, applies a transformation to the content, and then puts it back into the box and returns it. This is exactly what this code does:\n",
    "\n",
    "        def __call__(self, func, *args, **kwargs):\n",
    "                return Chain(func(self.val, *args, **kwargs))\n",
    "Funcs is the box, funcs.val takes it out of the box, and func() adds the transformation to it, and then Chain puts it back into the box\n",
    "\n",
    "If you want to add additional functionality to each operation when chaining, such as error handling, you have to put it as part of additional transformation on top of map.\n",
    "\n",
    "        def __call__(self, func, *args, **kwargs):\n",
    "                try:\n",
    "                        result  = func(self.val, *args, **kwargs) # this might raise an error\n",
    "                        return Chain(result)\n",
    "                except Exception:\n",
    "                        return Chain(None)\n",
    "\n",
    "We can also add logging if neccessary:\n",
    "\n",
    "         def __call__(self, func, *args, **kwargs):\n",
    "                try:\n",
    "                        result  = func(self.val, *args, **kwargs) # this might raise an error\n",
    "                        return Chain(result, logging = [*self.logging, func.__name__])\n",
    "                except Exception:\n",
    "                        return Chain(None, logging = [*self.logging, func.__name__])       \n",
    "\n",
    "This functor of sort basically resolves all problems that wanted to be solved by monads. Particularly, notice that we can just provide additionaly functionality to the wrapper class (ie. Chain) to do additonal modification or additional data calculation for each step in the pipeline, without having to wrapping the content into another box and having to unbox it again to flatten it to only 1 box thick. So I really don't see the point of monads in python.\n",
    "\n",
    "\n",
    "Monads might be more useful in functional langauge, where the focus is on functions. So if we imagine classes don't exist, when the above behaviour with functors adding additonal functionality is not possible. The only way to put content in a box is via a function. And therefore, we can use a functor, that wraps the data in the box. But then to add additional data transformations onto the data, we can pass the result to a map function, which then returns a function that takes a transformation function as a parameter, and then takes the content out of the wrapper and apply the transformation function and put it back into the box. But then to add error handling, we can create a custom map method that check if the result causes an exception and then put a None value back into the box, or another map method that adds additional data into the box.\n",
    "\n",
    "So in conclusion monads are useless. A functor is enough to solve all my problems.\n",
    "\n"
   ]
  },
  {
   "cell_type": "markdown",
   "metadata": {},
   "source": []
  }
 ],
 "metadata": {
  "language_info": {
   "name": "python"
  }
 },
 "nbformat": 4,
 "nbformat_minor": 2
}
