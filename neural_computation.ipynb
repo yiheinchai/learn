{
 "cells": [
  {
   "cell_type": "markdown",
   "metadata": {},
   "source": [
    "# Hopfield Networks"
   ]
  },
  {
   "cell_type": "code",
   "execution_count": 9,
   "metadata": {},
   "outputs": [],
   "source": [
    "import numpy as np\n",
    "import matplotlib.pyplot as plt"
   ]
  },
  {
   "cell_type": "code",
   "execution_count": 3,
   "metadata": {},
   "outputs": [],
   "source": [
    "A = np.array([\n",
    "    [-1, 1, 1, 1, -1],\n",
    "    [1, -1, -1, -1, 1],\n",
    "    [1, 1, 1, 1, 1],\n",
    "    [1, -1, -1, -1, 1],\n",
    "    [1, -1, -1, -1, 1],\n",
    "])\n",
    "\n",
    "Z = np.array([\n",
    "    [1, 1, 1, 1, 1],\n",
    "    [-1, -1, -1, 1, -1],\n",
    "    [-1, -1, 1, -1, - 1],\n",
    "    [-1, 1, -1, -1, -1],\n",
    "    [1, 1, 1, 1, 1],\n",
    "])"
   ]
  },
  {
   "cell_type": "code",
   "execution_count": 79,
   "metadata": {},
   "outputs": [],
   "source": [
    "A_noise = np.array([\n",
    "    [-1, -1,  -1,  1, -1],\n",
    "    [1, -1, -1, 1,  1],\n",
    "    [1,  1,  -1,  -1,  1],\n",
    "    [-1, -1, 1, -1,  1],\n",
    "    [1, -1, -1, 1,  1],\n",
    "])\n",
    "\n",
    "A_noise_2 = np.array([\n",
    "    [1, 1,  1,   1,  1],\n",
    "    [1, -1, -1, -1,  1],\n",
    "    [1,  -1,-1, -1,  1],\n",
    "    [1, -1, -1, -1,  1],\n",
    "    [1, 1, 1, 1,     1],\n",
    "])"
   ]
  },
  {
   "cell_type": "code",
   "execution_count": 59,
   "metadata": {},
   "outputs": [],
   "source": [
    "A_random = np.identity(5)"
   ]
  },
  {
   "cell_type": "code",
   "execution_count": 7,
   "metadata": {},
   "outputs": [],
   "source": [
    "def outer(matrixA, matrixB):\n",
    "    result = []\n",
    "    for row_A in matrixA:\n",
    "        result_row = []\n",
    "        for column_A in row_A:\n",
    "            product = []\n",
    "            for row_B in matrixB:\n",
    "                product_row = []\n",
    "                for column_B in row_B:\n",
    "                    product_row.append(column_A * column_B)\n",
    "                product.append(product_row)\n",
    "\n",
    "            result_row.append(product)\n",
    "        result.append(result_row)\n",
    "\n",
    "    return result\n",
    "            "
   ]
  },
  {
   "cell_type": "code",
   "execution_count": 65,
   "metadata": {},
   "outputs": [
    {
     "data": {
      "text/plain": [
       "<matplotlib.image.AxesImage at 0x13a7724d0>"
      ]
     },
     "execution_count": 65,
     "metadata": {},
     "output_type": "execute_result"
    },
    {
     "data": {
      "image/png": "[encoded data removed]",
      "text/plain": [
       "<Figure size 640x480 with 1 Axes>"
      ]
     },
     "metadata": {},
     "output_type": "display_data"
    }
   ],
   "source": [
    "plt.imshow(A_noise_2, cmap=\"Greys\")"
   ]
  },
  {
   "cell_type": "code",
   "execution_count": 12,
   "metadata": {},
   "outputs": [
    {
     "data": {
      "text/plain": [
       "<matplotlib.image.AxesImage at 0x13999cf50>"
      ]
     },
     "execution_count": 12,
     "metadata": {},
     "output_type": "execute_result"
    },
    {
     "data": {
      "image/png": "[encoded data removed]",
      "text/plain": [
       "<Figure size 640x480 with 1 Axes>"
      ]
     },
     "metadata": {},
     "output_type": "display_data"
    }
   ],
   "source": [
    "plt.imshow(A, cmap='Greys')"
   ]
  },
  {
   "cell_type": "code",
   "execution_count": 81,
   "metadata": {},
   "outputs": [],
   "source": [
    "def add_noise(x_, noise_level=.2):\n",
    "    noise = np.random.choice(\n",
    "        [1, -1], size=len(x_), p=[1-noise_level, noise_level])\n",
    "    return x_ * noise"
   ]
  },
  {
   "cell_type": "code",
   "execution_count": 74,
   "metadata": {},
   "outputs": [],
   "source": [
    "def update(input, weights):\n",
    "    updated = []\n",
    "    for i,row in enumerate(input):\n",
    "        updated_row = []\n",
    "        for j, column in enumerate(row):\n",
    "            # Determining the correct firing of 1 cell\n",
    "\n",
    "            votes = []\n",
    "\n",
    "            for weight_i, weight_row in enumerate(weights):\n",
    "                for weight_j, weight_col in enumerate(weight_row):\n",
    "                   votes.append(input[weight_i][weight_j] * weight_col[i][j])\n",
    "                   \n",
    "            if np.sum(votes) >= 0:\n",
    "                updated_row.append(1)\n",
    "            else:\n",
    "                updated_row.append(-1)\n",
    "\n",
    "        updated.append(updated_row)\n",
    "    return updated\n",
    "        "
   ]
  },
  {
   "cell_type": "code",
   "execution_count": 95,
   "metadata": {},
   "outputs": [
    {
     "data": {
      "text/plain": [
       "<matplotlib.image.AxesImage at 0x13afd9c50>"
      ]
     },
     "execution_count": 95,
     "metadata": {},
     "output_type": "execute_result"
    },
    {
     "data": {
      "image/png": "[encoded data removed]",
      "text/plain": [
       "<Figure size 640x480 with 1 Axes>"
      ]
     },
     "metadata": {},
     "output_type": "display_data"
    }
   ],
   "source": [
    "A_auto_noise = add_noise(A, noise_level=0.5)\n",
    "\n",
    "plt.imshow(A_auto_noise, cmap=\"Greys\")"
   ]
  },
  {
   "cell_type": "code",
   "execution_count": 75,
   "metadata": {},
   "outputs": [],
   "source": [
    "weights = outer(A, A)"
   ]
  },
  {
   "cell_type": "code",
   "execution_count": 98,
   "metadata": {},
   "outputs": [
    {
     "data": {
      "text/plain": [
       "[[[[1, -1, -1, -1, 1],\n",
       "   [-1, 1, 1, 1, -1],\n",
       "   [-1, -1, -1, -1, -1],\n",
       "   [-1, 1, 1, 1, -1],\n",
       "   [-1, 1, 1, 1, -1]],\n",
       "  [[-1, 1, 1, 1, -1],\n",
       "   [1, -1, -1, -1, 1],\n",
       "   [1, 1, 1, 1, 1],\n",
       "   [1, -1, -1, -1, 1],\n",
       "   [1, -1, -1, -1, 1]],\n",
       "  [[-1, 1, 1, 1, -1],\n",
       "   [1, -1, -1, -1, 1],\n",
       "   [1, 1, 1, 1, 1],\n",
       "   [1, -1, -1, -1, 1],\n",
       "   [1, -1, -1, -1, 1]],\n",
       "  [[-1, 1, 1, 1, -1],\n",
       "   [1, -1, -1, -1, 1],\n",
       "   [1, 1, 1, 1, 1],\n",
       "   [1, -1, -1, -1, 1],\n",
       "   [1, -1, -1, -1, 1]],\n",
       "  [[1, -1, -1, -1, 1],\n",
       "   [-1, 1, 1, 1, -1],\n",
       "   [-1, -1, -1, -1, -1],\n",
       "   [-1, 1, 1, 1, -1],\n",
       "   [-1, 1, 1, 1, -1]]],\n",
       " [[[-1, 1, 1, 1, -1],\n",
       "   [1, -1, -1, -1, 1],\n",
       "   [1, 1, 1, 1, 1],\n",
       "   [1, -1, -1, -1, 1],\n",
       "   [1, -1, -1, -1, 1]],\n",
       "  [[1, -1, -1, -1, 1],\n",
       "   [-1, 1, 1, 1, -1],\n",
       "   [-1, -1, -1, -1, -1],\n",
       "   [-1, 1, 1, 1, -1],\n",
       "   [-1, 1, 1, 1, -1]],\n",
       "  [[1, -1, -1, -1, 1],\n",
       "   [-1, 1, 1, 1, -1],\n",
       "   [-1, -1, -1, -1, -1],\n",
       "   [-1, 1, 1, 1, -1],\n",
       "   [-1, 1, 1, 1, -1]],\n",
       "  [[1, -1, -1, -1, 1],\n",
       "   [-1, 1, 1, 1, -1],\n",
       "   [-1, -1, -1, -1, -1],\n",
       "   [-1, 1, 1, 1, -1],\n",
       "   [-1, 1, 1, 1, -1]],\n",
       "  [[-1, 1, 1, 1, -1],\n",
       "   [1, -1, -1, -1, 1],\n",
       "   [1, 1, 1, 1, 1],\n",
       "   [1, -1, -1, -1, 1],\n",
       "   [1, -1, -1, -1, 1]]],\n",
       " [[[-1, 1, 1, 1, -1],\n",
       "   [1, -1, -1, -1, 1],\n",
       "   [1, 1, 1, 1, 1],\n",
       "   [1, -1, -1, -1, 1],\n",
       "   [1, -1, -1, -1, 1]],\n",
       "  [[-1, 1, 1, 1, -1],\n",
       "   [1, -1, -1, -1, 1],\n",
       "   [1, 1, 1, 1, 1],\n",
       "   [1, -1, -1, -1, 1],\n",
       "   [1, -1, -1, -1, 1]],\n",
       "  [[-1, 1, 1, 1, -1],\n",
       "   [1, -1, -1, -1, 1],\n",
       "   [1, 1, 1, 1, 1],\n",
       "   [1, -1, -1, -1, 1],\n",
       "   [1, -1, -1, -1, 1]],\n",
       "  [[-1, 1, 1, 1, -1],\n",
       "   [1, -1, -1, -1, 1],\n",
       "   [1, 1, 1, 1, 1],\n",
       "   [1, -1, -1, -1, 1],\n",
       "   [1, -1, -1, -1, 1]],\n",
       "  [[-1, 1, 1, 1, -1],\n",
       "   [1, -1, -1, -1, 1],\n",
       "   [1, 1, 1, 1, 1],\n",
       "   [1, -1, -1, -1, 1],\n",
       "   [1, -1, -1, -1, 1]]],\n",
       " [[[-1, 1, 1, 1, -1],\n",
       "   [1, -1, -1, -1, 1],\n",
       "   [1, 1, 1, 1, 1],\n",
       "   [1, -1, -1, -1, 1],\n",
       "   [1, -1, -1, -1, 1]],\n",
       "  [[1, -1, -1, -1, 1],\n",
       "   [-1, 1, 1, 1, -1],\n",
       "   [-1, -1, -1, -1, -1],\n",
       "   [-1, 1, 1, 1, -1],\n",
       "   [-1, 1, 1, 1, -1]],\n",
       "  [[1, -1, -1, -1, 1],\n",
       "   [-1, 1, 1, 1, -1],\n",
       "   [-1, -1, -1, -1, -1],\n",
       "   [-1, 1, 1, 1, -1],\n",
       "   [-1, 1, 1, 1, -1]],\n",
       "  [[1, -1, -1, -1, 1],\n",
       "   [-1, 1, 1, 1, -1],\n",
       "   [-1, -1, -1, -1, -1],\n",
       "   [-1, 1, 1, 1, -1],\n",
       "   [-1, 1, 1, 1, -1]],\n",
       "  [[-1, 1, 1, 1, -1],\n",
       "   [1, -1, -1, -1, 1],\n",
       "   [1, 1, 1, 1, 1],\n",
       "   [1, -1, -1, -1, 1],\n",
       "   [1, -1, -1, -1, 1]]],\n",
       " [[[-1, 1, 1, 1, -1],\n",
       "   [1, -1, -1, -1, 1],\n",
       "   [1, 1, 1, 1, 1],\n",
       "   [1, -1, -1, -1, 1],\n",
       "   [1, -1, -1, -1, 1]],\n",
       "  [[1, -1, -1, -1, 1],\n",
       "   [-1, 1, 1, 1, -1],\n",
       "   [-1, -1, -1, -1, -1],\n",
       "   [-1, 1, 1, 1, -1],\n",
       "   [-1, 1, 1, 1, -1]],\n",
       "  [[1, -1, -1, -1, 1],\n",
       "   [-1, 1, 1, 1, -1],\n",
       "   [-1, -1, -1, -1, -1],\n",
       "   [-1, 1, 1, 1, -1],\n",
       "   [-1, 1, 1, 1, -1]],\n",
       "  [[1, -1, -1, -1, 1],\n",
       "   [-1, 1, 1, 1, -1],\n",
       "   [-1, -1, -1, -1, -1],\n",
       "   [-1, 1, 1, 1, -1],\n",
       "   [-1, 1, 1, 1, -1]],\n",
       "  [[-1, 1, 1, 1, -1],\n",
       "   [1, -1, -1, -1, 1],\n",
       "   [1, 1, 1, 1, 1],\n",
       "   [1, -1, -1, -1, 1],\n",
       "   [1, -1, -1, -1, 1]]]]"
      ]
     },
     "execution_count": 98,
     "metadata": {},
     "output_type": "execute_result"
    }
   ],
   "source": [
    "weights"
   ]
  },
  {
   "cell_type": "code",
   "execution_count": 96,
   "metadata": {},
   "outputs": [
    {
     "data": {
      "text/plain": [
       "<matplotlib.image.AxesImage at 0x13b035bd0>"
      ]
     },
     "execution_count": 96,
     "metadata": {},
     "output_type": "execute_result"
    },
    {
     "data": {
      "image/png": "[encoded data removed]",
      "text/plain": [
       "<Figure size 640x480 with 1 Axes>"
      ]
     },
     "metadata": {},
     "output_type": "display_data"
    }
   ],
   "source": [
    "A_updated = update(A_auto_noise, weights)\n",
    "plt.imshow(A_updated, cmap=\"Greys\")"
   ]
  },
  {
   "cell_type": "code",
   "execution_count": 27,
   "metadata": {},
   "outputs": [
    {
     "data": {
      "text/plain": [
       "<matplotlib.image.AxesImage at 0x139c00190>"
      ]
     },
     "execution_count": 27,
     "metadata": {},
     "output_type": "execute_result"
    },
    {
     "data": {
      "image/png": "[encoded data removed]",
      "text/plain": [
       "<Figure size 640x480 with 1 Axes>"
      ]
     },
     "metadata": {},
     "output_type": "display_data"
    }
   ],
   "source": [
    "plt.imshow(A, cmap=\"Greys\")"
   ]
  },
  {
   "cell_type": "code",
   "execution_count": 99,
   "metadata": {},
   "outputs": [
    {
     "data": {
      "text/plain": [
       "array([ 9,  4, 10])"
      ]
     },
     "execution_count": 99,
     "metadata": {},
     "output_type": "execute_result"
    }
   ],
   "source": [
    "np.dot([1,2,3], [[3,-1,1],[0,1,0],[2,1,3]])"
   ]
  },
  {
   "cell_type": "markdown",
   "metadata": {},
   "source": [
    "## Resistance to weight corruptability"
   ]
  },
  {
   "cell_type": "code",
   "execution_count": 250,
   "metadata": {},
   "outputs": [
    {
     "data": {
      "text/plain": [
       "<matplotlib.image.AxesImage at 0x13f316850>"
      ]
     },
     "execution_count": 250,
     "metadata": {},
     "output_type": "execute_result"
    },
    {
     "data": {
      "image/png": "[encoded data removed]",
      "text/plain": [
       "<Figure size 640x480 with 1 Axes>"
      ]
     },
     "metadata": {},
     "output_type": "display_data"
    }
   ],
   "source": [
    "noisy_weights = add_noise(weights, 0.10)\n",
    "A_updated = update(A_noise, noisy_weights)\n",
    "plt.imshow(A_updated, cmap=\"Greys\")"
   ]
  },
  {
   "cell_type": "markdown",
   "metadata": {},
   "source": [
    "## Answer\n",
    "\n",
    "https://colab.research.google.com/github/qihongl/demo-hopfield-network/blob/master/hopfield-net.ipynb#scrollTo=FTDRVplQv41U"
   ]
  }
 ],
 "metadata": {
  "kernelspec": {
   "display_name": "base",
   "language": "python",
   "name": "python3"
  },
  "language_info": {
   "codemirror_mode": {
    "name": "ipython",
    "version": 3
   },
   "file_extension": ".py",
   "mimetype": "text/x-python",
   "name": "python",
   "nbconvert_exporter": "python",
   "pygments_lexer": "ipython3",
   "version": "3.11.5"
  }
 },
 "nbformat": 4,
 "nbformat_minor": 2
}
