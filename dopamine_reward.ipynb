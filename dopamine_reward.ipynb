{
 "cells": [
  {
   "cell_type": "markdown",
   "metadata": {},
   "source": [
    "## [Paper](https://www.jneurosci.org/content/jneuro/16/5/1936.full.pdf)\n",
    "\n",
    "### Code for prediction of error signals in the brain"
   ]
  },
  {
   "cell_type": "code",
   "execution_count": null,
   "metadata": {},
   "outputs": [],
   "source": [
    "def make_prediction(actual, predicted, update_prediction, side_effects):\n",
    "    prediction_error = actual - predicted\n",
    "    \n",
    "    if prediction_error != 0:\n",
    "        update_prediction(prediction_error)\n",
    "        side_effects(prediction_error)\n",
    "        "
   ]
  },
  {
   "cell_type": "markdown",
   "metadata": {},
   "source": []
  }
 ],
 "metadata": {
  "language_info": {
   "name": "python"
  },
  "orig_nbformat": 4
 },
 "nbformat": 4,
 "nbformat_minor": 2
}
