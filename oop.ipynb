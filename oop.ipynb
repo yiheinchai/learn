{
 "cells": [
  {
   "cell_type": "code",
   "execution_count": 20,
   "metadata": {},
   "outputs": [],
   "source": [
    "#|default_exp oop"
   ]
  },
  {
   "cell_type": "markdown",
   "metadata": {},
   "source": [
    "# Project 1"
   ]
  },
  {
   "cell_type": "markdown",
   "metadata": {},
   "source": [
    "## Instructions"
   ]
  },
  {
   "cell_type": "markdown",
   "metadata": {},
   "source": [
    "We need to design an dimplement a class that will be used to represent bank accounts.\n",
    "\n",
    "We want the following functionality and characteristics:\n",
    "- accounts are uniquely identified by an **account number** (assume it will just be passed in the initializer)\n",
    "- account holders have a **first** and **last** name\n",
    "- accounts have an associated **preferred time zone offset** (e.g. -7 for MST)\n",
    "- **balances** need to be zero or higher, and should not be directly settable.\n",
    "- but, **deposits** and **withdrawals** can be made (given sufficient funds)\n",
    "    - if a withdrawal is attempted that would result in nagative funds, the transaction should be declined.\n",
    "- a **monthly interest rate** exists and is applicable to all accounts **uniformly**. There should be a method that can be called to calculate the interest on the current balance using the current interest rate, and **add it** to the balance.\n",
    "- each deposit and withdrawal must generate a **confirmation number** composed of:\n",
    "    - the transaction type: `D` for deposit, and `W` for withdrawal, `I` for interest deposit, and `X` for declined (in which case the balance remains unaffected)\n",
    "    - the account number\n",
    "    - the time the transaction was made, using UTC\n",
    "    - an incrementing number (that increments across all accounts and transactions)\n",
    "    - for (extreme!) simplicity assume that the transaction id starts at zero (or whatever number you choose) whenever the program starts\n",
    "    - the confirmation number should be returned from any of the transaction methods (deposit, withdraw, etc)\n",
    "- create a **method** that, given a confirmation number, returns:\n",
    "    - the account number, transaction code (D, W, etc), datetime (UTC format), date time (in whatever timezone is specified in te argument, but more human readable), the transaction ID\n",
    "    - make it so it is a nicely structured object (so can use dotted notation to access these three attributes)\n",
    "    - I purposefully made it so the desired timezone is passed as an argument. Can you figure out why? (hint: does this method require any information from any instance?)"
   ]
  },
  {
   "cell_type": "markdown",
   "metadata": {},
   "source": [
    "For example, we may have an account with:\n",
    "- account number `140568` \n",
    "- preferred time zone offset of -7 (MST) \n",
    "- an existing balance of `100.00`\n",
    "\n",
    "Suppose the last transaction ID in the system was `123`, and a deposit is made for `50.00` on `2019-03-15T14:59:00` (UTC) on that account (or `2019-03-15T07:59:00` in account's preferred time zone offset)\n",
    "\n",
    "The new balance should reflect `150.00` and the confirmation number returned should look something like this:\n",
    "\n",
    "```D-140568-20190315145900-124```\n",
    "\n",
    "We also want a method that given the confirmation number returns an object with attributes:\n",
    "- `result.account_number` --> `140568`\n",
    "- `result.transaction_code` --> `D`\n",
    "- `result.transaction_id` --> `124`\n",
    "- `result.time` --> `2019-03-15 07:59:00 (MST)`\n",
    "- `result.time_utc` --> `2019-03-15T14:59:00`"
   ]
  },
  {
   "cell_type": "markdown",
   "metadata": {},
   "source": [
    "Furthermore, if current interest rate is `0.5%`, and the account's balance is `1000.00`, then the result of calling the `deposit_interest` (or whatever name you choose) method, should result in a new transaction and a new balance of `1050.00`. Calling this method should also return a confirmation number.\n",
    "\n",
    "For simplicty, just use floats, but be aware that for these types of situations you'll probably want to use `Decimal` objects instead of floats."
   ]
  },
  {
   "cell_type": "markdown",
   "metadata": {},
   "source": [
    "There are going to be many ways to design something like this, especially since I have not nailed down all the specific requirements, so you'll have to fill the gaps yourself and decide what other things you may want to implement (like is the account number going to be a mutable property, or \"read-only\" and so on).\n",
    "\n",
    "See how many different ideas you can use from what we covered in the last section. "
   ]
  },
  {
   "cell_type": "markdown",
   "metadata": {},
   "source": [
    "My approach will end up creating two classes: a `TimeZone` class used to store the time zone name and offset definition (in hours and minutes), and a main class called `Account` that will have the following \"public\" interface:\n",
    "- initializer with account number, first name, last name, optional preferred time zone, starting balance (defaults to 0)\n",
    "- a first name property (read/write)\n",
    "- a last name property (read/write)\n",
    "- a full name property (computed, read-only)\n",
    "- a balance property (read-only)\n",
    "- an interest rate property (class level property)\n",
    "- deposit, withdraw, pay_interest methods\n",
    "- parse confirmation code\n",
    "\n",
    "Class will have additional state and methods, but those will be used for implementation."
   ]
  },
  {
   "cell_type": "markdown",
   "metadata": {},
   "source": [
    "You should also remember to test your code! In the solutions I will introduce you to Python's `unittest` package. Even if you skip this project, at least review that video and/or notebook if you are unfamiliar with `unittest`."
   ]
  },
  {
   "cell_type": "markdown",
   "metadata": {},
   "source": [
    "## Code"
   ]
  },
  {
   "cell_type": "code",
   "execution_count": 24,
   "metadata": {},
   "outputs": [],
   "source": [
    "#|export\n",
    "\n",
    "from enum import Enum\n",
    "import datetime\n",
    "\n",
    "class TransactionType(Enum):\n",
    "    DEPOSIT = \"D\"\n",
    "    WITHDRAWAL = \"W\"\n",
    "    INTEREST = 'I'\n",
    "    DECLINED = \"X\"\n",
    "\n",
    "class InsufficentBalanceError(RuntimeError):\n",
    "    pass\n",
    "\n",
    "class TransactionNotFoundError(RuntimeError):\n",
    "    pass\n",
    "\n",
    "class Transaction:\n",
    "    def __init__(self, transaction_type: TransactionType, account_number, time, id) -> None:\n",
    "        self.transaction_type = transaction_type\n",
    "        self.account_number = account_number\n",
    "        self.time = time\n",
    "        self.id = id\n",
    "\n",
    "    @property\n",
    "    def confirmation_number(self):\n",
    "        return f\"{self.transaction_type.value}_{self.account_number}_{str(self.time)}_{self.id}\"\n",
    "\n",
    "class BankAccount:\n",
    "    monthly_interest_rate = 0.05\n",
    "    transaction_id = 0\n",
    "    transactions = {}\n",
    "\n",
    "    def __init__(self, account_number, tz_offset, existing_balance, first_name, last_name) -> None:\n",
    "        self.account_number = account_number\n",
    "        self._tz_offset = datetime.timedelta(hours=tz_offset)\n",
    "\n",
    "        if existing_balance < 0:\n",
    "            raise InsufficentBalanceError(\"Unable to create account with negative balance.\")\n",
    "        \n",
    "        self._balance = existing_balance\n",
    "\n",
    "        self._first_name = first_name\n",
    "        self._last_name = last_name\n",
    "\n",
    "    @property\n",
    "    def balance(self):\n",
    "        return self._balance\n",
    "    \n",
    "    @property\n",
    "    def name(self):\n",
    "        return f\"{self._first_name} {self._last_name}\"\n",
    "    \n",
    "    def _add_transaction(self, transaction: Transaction):\n",
    "        self.transactions[transaction.confirmation_number] = transaction\n",
    "        return transaction.confirmation_number\n",
    "\n",
    "    \n",
    "    def deposit(self, amount):\n",
    "        self._balance += amount\n",
    "\n",
    "        time_of_transaction = datetime.datetime.utcnow()\n",
    "        BankAccount.transaction_id += 1\n",
    "        transaction = Transaction(TransactionType.DEPOSIT, self.account_number, time_of_transaction, BankAccount.transaction_id )\n",
    "        self.transactions[transaction.confirmation_number] = transaction\n",
    "        return transaction.confirmation_number\n",
    "\n",
    "    def withdraw(self, amount):\n",
    "        time_of_transaction = datetime.datetime.utcnow()\n",
    "        BankAccount.transaction_id += 1\n",
    "\n",
    "        if self._balance < amount:\n",
    "            transaction = Transaction(TransactionType.DECLINED, self.account_number, time_of_transaction, BankAccount.transaction_id)\n",
    "            return self._add_transaction(transaction)\n",
    "        else:\n",
    "            self._balance -= amount\n",
    "            transaction = Transaction(TransactionType.WITHDRAWAL, self.account_number, time_of_transaction, BankAccount.transaction_id)\n",
    "            return self._add_transaction(transaction)\n",
    "\n",
    "    def add_interest(self):\n",
    "        self._balance += self._balance * self.monthly_interest_rate\n",
    "        BankAccount.transaction_id += 1\n",
    "        time_of_transaction = datetime.datetime.utcnow()\n",
    "        transaction = Transaction(TransactionType.INTEREST, self.account_number, time_of_transaction, BankAccount.transaction_id)\n",
    "        return self._add_transaction(transaction)\n",
    "    \n",
    "    def get_transaction(self, confirmation_number):\n",
    "        transaction = self.transactions.get(confirmation_number, None)\n",
    "\n",
    "        if transaction is None:\n",
    "            raise TransactionNotFoundError()\n",
    "        \n",
    "        return transaction\n",
    "    "
   ]
  },
  {
   "cell_type": "markdown",
   "metadata": {},
   "source": [
    "## Testing"
   ]
  },
  {
   "cell_type": "code",
   "execution_count": 32,
   "metadata": {},
   "outputs": [],
   "source": [
    "#|export\n",
    "\n",
    "import pytest\n",
    "\n",
    "FAKE_TIME = datetime.datetime(2023, 10, 26, 10, 10, 10)\n",
    "\n",
    "@pytest.fixture(autouse=True)\n",
    "def patch_datetime_now(monkeypatch):\n",
    "    class mockdatetime(datetime.datetime):\n",
    "        @classmethod\n",
    "        def utcnow(cls):\n",
    "            return FAKE_TIME\n",
    "\n",
    "    monkeypatch.setattr(datetime,'datetime', mockdatetime)\n",
    "\n",
    "\n",
    "class TestBankAccount:\n",
    "    @pytest.fixture(autouse=True)\n",
    "    def test_account(self):\n",
    "        self._account = BankAccount(\"Account123\", -5, 100, \"Yi Hein\", \"Chai\")\n",
    "        BankAccount.transaction_id = 0\n",
    "\n",
    "    def test_can_create_account(self):\n",
    "        acc = BankAccount(\"Account123\", -5, 100, \"Yi Hein\", \"Chai\")\n",
    "        assert acc.account_number == \"Account123\"\n",
    "        assert acc.name == \"Yi Hein Chai\"\n",
    "        assert acc.balance == 100\n",
    "\n",
    "    def test_create_account_neg_balance(self):\n",
    "        with pytest.raises(InsufficentBalanceError) as excinfo:\n",
    "            acc = BankAccount(\"Account123\", -5, -100, \"Yi Hein\", \"Chai\")\n",
    "\n",
    "        assert \"negative balance\" in str(excinfo.value)\n",
    "\n",
    "    def test_withdraw_negative_balance(self):\n",
    "        confirmation_code = self._account.withdraw(200)\n",
    "        assert self._account.balance == 100\n",
    "        assert confirmation_code[0] == TransactionType.DECLINED.value\n",
    "\n",
    "    def test_interest_deposit(self):\n",
    "        confirmation_code = self._account.add_interest()\n",
    "        assert self._account.balance == 105\n",
    "        assert confirmation_code[0] == TransactionType.INTEREST.value\n",
    "\n",
    "    def test_confirmation_number(self):\n",
    "        confirmation_code = self._account.deposit(200)\n",
    "        assert confirmation_code == \"D_Account123_2023-10-26 10:10:10_1\"\n",
    "\n",
    "    def test_get_transaction(self):\n",
    "        confirmation_code = self._account.deposit(200)\n",
    "        transaction = self._account.get_transaction(confirmation_code)\n",
    "\n",
    "        assert transaction.account_number == self._account.account_number\n",
    "        assert transaction.transaction_type ==  TransactionType.DEPOSIT\n"
   ]
  },
  {
   "cell_type": "code",
   "execution_count": 34,
   "metadata": {},
   "outputs": [],
   "source": [
    "acc = BankAccount(\"Account123\", -5, 100, \"Yi Hein\", \"Chai\")"
   ]
  },
  {
   "cell_type": "code",
   "execution_count": 36,
   "metadata": {},
   "outputs": [
    {
     "data": {
      "text/plain": [
       "100"
      ]
     },
     "execution_count": 36,
     "metadata": {},
     "output_type": "execute_result"
    }
   ],
   "source": [
    "acc.withdraw"
   ]
  },
  {
   "cell_type": "markdown",
   "metadata": {},
   "source": [
    "# Export"
   ]
  },
  {
   "cell_type": "code",
   "execution_count": 55,
   "metadata": {},
   "outputs": [
    {
     "name": "stdout",
     "output_type": "stream",
     "text": [
      "Export successful\n"
     ]
    }
   ],
   "source": [
    "import nbdev\n",
    "nbdev.export.nb_export('oop.ipynb', 'src')\n",
    "print('Export successful')"
   ]
  }
 ],
 "metadata": {
  "kernelspec": {
   "display_name": "base",
   "language": "python",
   "name": "python3"
  },
  "language_info": {
   "codemirror_mode": {
    "name": "ipython",
    "version": 3
   },
   "file_extension": ".py",
   "mimetype": "text/x-python",
   "name": "python",
   "nbconvert_exporter": "python",
   "pygments_lexer": "ipython3",
   "version": "3.11.5"
  }
 },
 "nbformat": 4,
 "nbformat_minor": 2
}
