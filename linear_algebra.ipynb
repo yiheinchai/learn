{
 "cells": [
  {
   "cell_type": "markdown",
   "metadata": {},
   "source": [
    "# Linear Algebra"
   ]
  },
  {
   "cell_type": "markdown",
   "metadata": {},
   "source": [
    "## Basics"
   ]
  },
  {
   "cell_type": "markdown",
   "metadata": {},
   "source": [
    "### Column Operations"
   ]
  },
  {
   "cell_type": "markdown",
   "metadata": {},
   "source": [
    "Column operations happen on the right hand side of the matrix.\n",
    "\n",
    "Each column corresponds to the column that you want to get as the answer.\n",
    "Each item in the column corresponds to the column that you want to take to get to the answer.\n",
    "\n",
    "For example,\n",
    "\n",
    "[[1 2]  [[0 1]    [[2 1]\n",
    "\n",
    " [3 4]]  [1 0]] =  [4 3]]\n",
    "\n",
    "This means that to get the first column of the answer, we take 0 of the first column + 1 of the second column. This essentially puts the second column of the matrix to the first column of the answer.\n",
    "This means that to get the second column of the answer, we take 1 of the first column + 0 of the second column. This essentially puts the first column of the matrix to the second column of the answer."
   ]
  },
  {
   "cell_type": "markdown",
   "metadata": {},
   "source": [
    "### Row Operations"
   ]
  },
  {
   "cell_type": "markdown",
   "metadata": {},
   "source": [
    "Row operations with matrix happen on a simple principle. The params are on the left hand side and the matrix you want to operate on is on the right handside.\n",
    "\n",
    "For example:\n",
    "\n",
    "[1 0 0] [[1 2 3] [4 5 6] [7 8 9]] \n",
    "basically means, take 1 x row 1, take 0 x row 2, and take 0 x row 3.\n",
    "\n",
    "Note that when you multiply a row by a matrix, you get a row back.\n",
    "Now, going back to eliminations, we can use a matrix as the operator on the matrix instead.\n",
    "Every row in the matrix operator decides on the corresponding row of the result. Every column in the matrix operator decides on how we want to use the surrounding rows to obtain the result.\n",
    "\n",
    "Take the identity matrix:\n",
    "[[1 0 0] [0 1 0] [0 0 1]] x [[1 2 3] [4 5 6] [7 8 9]] = [[1 2 3] [4 5 6] [7 8 9]]\n",
    "\n",
    "To narrate through what is happening,\n",
    "The first row of the operator decides on what the first row of the answer is. In this case, we said we take the 1 x first row of the matrix, and add it with 0 of the second row and 0 of the thrid row, meaning that we get back the first row for the answer.\n",
    "In the second row of the operator, we said that we take 0 x first row, 1 x second row, 0 x third row, meaning get we get back second row of the matrix for the second row of the answer.\n",
    "In the third row of the operator, we said that we take 0 x first, row, 0 x second row, 1 x third row, meaning get we get back third row of the matrix for the third row of the answer."
   ]
  },
  {
   "cell_type": "markdown",
   "metadata": {},
   "source": [
    "## Elimination"
   ]
  },
  {
   "cell_type": "markdown",
   "metadata": {},
   "source": [
    "Elimination of linear algebra is the basic process of eliminating all the variables from a equation that you have 1 variable left. For example, if you have an equation with X, Y, Z variables, you can use the other equations to knockout X, Y variables such that you have Z left. \n",
    "\n",
    "In most text, they will teach to use a certain position as a pivot, but it really doesn't matter. Just do whatever it takes to eliminate the variables, you can subtract from any position as long as it serves the purpose in eliminating the variables.\n",
    "\n",
    "Moreover, you can observe that once you have eliminated one equation to only have 1 variable, you can then use that equation to eliminate the other equations. For example, if you have an equation with 0X + 0Y + 2Z, this becomes a powerful tool to eliminate Z from the other 2 equations because X and Y is zero and has no effect. In the end, you keep doing eliminations until you have only 1 variable per equation."
   ]
  },
  {
   "cell_type": "markdown",
   "metadata": {},
   "source": [
    "### Definitions\n",
    "\n",
    "A = matrix to be eliminated\n",
    "b = answer on the righthand side\n",
    "\n",
    "U = eliminated matrix, also called upper triangular because only the top contains values and the bottom triangle are all zeroes\n",
    "c = eliminated answer\n",
    "\n",
    "E = elimination matrix to permutate A matrix\n",
    "\n",
    "Ax = b\n",
    "\n",
    "with E matrix permutations, it becomes,\n",
    "\n",
    "Ux = c\n"
   ]
  },
  {
   "cell_type": "markdown",
   "metadata": {},
   "source": [
    "### Failures in elimination"
   ]
  },
  {
   "cell_type": "markdown",
   "metadata": {},
   "source": [
    "Intuitively, elimination will fail when you eliminate more than 1 variable when you subtract. This will cause it to fail because you will end up with a eqution with X isolated, Y isolated, but none with Z isolated, because you accidentally eliminated Z together with another variable. This problem occurs because two equations are not independent and they are just derivations of another. In this case, you really only have information for two equations, so it is natural that you don't have enough information to solve for all three variables."
   ]
  },
  {
   "cell_type": "markdown",
   "metadata": {},
   "source": [
    "### In Row Form"
   ]
  },
  {
   "cell_type": "markdown",
   "metadata": {},
   "source": [
    "#### Row Operations with matrix"
   ]
  },
  {
   "cell_type": "markdown",
   "metadata": {},
   "source": [
    "Row operations with matrix happen on a simple principle. The params are on the left hand side and the matrix you want to operate on is on the right handside.\n",
    "\n",
    "For example:\n",
    "\n",
    "[1 0 0] [[1 2 3] [4 5 6] [7 8 9]] \n",
    "basically means, take 1 x row 1, take 0 x row 2, and take 0 x row 3.\n",
    "\n",
    "Note that when you multiply a row by a matrix, you get a row back.\n",
    "Now, going back to eliminations, we can use a matrix as the operator on the matrix instead.\n",
    "Every row in the matrix operator decides on the corresponding row of the result. Every column in the matrix operator decides on how we want to use the surrounding rows to obtain the result.\n",
    "\n",
    "Take the identity matrix:\n",
    "[[1 0 0] [0 1 0] [0 0 1]] x [[1 2 3] [4 5 6] [7 8 9]] = [[1 2 3] [4 5 6] [7 8 9]]\n",
    "\n",
    "To narrate through what is happening,\n",
    "The first row of the operator decides on what the first row of the answer is. In this case, we said we take the 1 x first row of the matrix, and add it with 0 of the second row and 0 of the thrid row, meaning that we get back the first row for the answer.\n",
    "In the second row of the operator, we said that we take 0 x first row, 1 x second row, 0 x third row, meaning get we get back second row of the matrix for the second row of the answer.\n",
    "In the third row of the operator, we said that we take 0 x first, row, 0 x second row, 1 x third row, meaning get we get back third row of the matrix for the third row of the answer."
   ]
  },
  {
   "cell_type": "markdown",
   "metadata": {},
   "source": [
    "#### In code"
   ]
  },
  {
   "cell_type": "markdown",
   "metadata": {},
   "source": [
    "Let's define some utility function"
   ]
  },
  {
   "cell_type": "code",
   "execution_count": null,
   "metadata": {},
   "outputs": [],
   "source": [
    "def mat_invert(mat):\n",
    "    inverted_mat = []\n",
    "    for col_index, _ in enumerate(mat[0]):\n",
    "        inv_row = []\n",
    "        for row in mat:\n",
    "            inv_row.append(row[col_index])\n",
    "        inverted_mat.append(inv_row)\n",
    "\n",
    "    return inverted_mat\n",
    "\n",
    "def mat_add_row(mat):\n",
    "    summed_mat = []\n",
    "    for row in mat:\n",
    "        row_sum = 0\n",
    "        for column in row:\n",
    "            row_sum += column\n",
    "        summed_mat.append(row_sum)\n",
    "\n",
    "    return summed_mat\n",
    "\n",
    "def mat_add_col(mat):\n",
    "    inverted_mat = mat_invert(mat)\n",
    "    return mat_add_row(inverted_mat)\n",
    "\n",
    "def mat_mul(mat1, mat2):\n",
    "    final_mat = []\n",
    "    for row_index, row in enumerate(mat1):\n",
    "\n",
    "        new_rows = [] # the new row at row_index of the answer before collapsing\n",
    "        for col_index, col_val in enumerate(row):\n",
    "            # Identified the col_val and row location: col_index\n",
    "            # Note that col_index of operator is the row_index of the target mat\n",
    "            new_row = []\n",
    "            for row_val in mat2[col_index]:\n",
    "                new_row.append(col_val * row_val)\n",
    "            \n",
    "            new_rows.append(new_row)\n",
    "        \n",
    "        # Add the columns together\n",
    "        final_row = mat_add_col(new_rows)\n",
    "        final_mat.append(final_row)\n",
    "    return final_mat\n",
    "\n",
    "def gen_identity_mat(mat):\n",
    "    max_row, max_col = len(mat) - 1, len(mat[0]) - 1\n",
    "    i_mat = []\n",
    "    for i_col in range(max_col + 1):\n",
    "        row = []\n",
    "        for i_row in range(max_row + 1):\n",
    "            if i_row == i_col:\n",
    "                row.append(1)\n",
    "            else:\n",
    "                row.append(0)\n",
    "        i_mat.append(row)\n",
    "    return i_mat\n",
    "\n",
    "def subset_mat(mat):\n",
    "    subset_mat = []\n",
    "    for row_i, row in enumerate(mat):\n",
    "        subset_row = []\n",
    "        for col_i, col in enumerate(row):\n",
    "            if row_i == 0 or col_i == 0:\n",
    "                continue\n",
    "            subset_row.append(col)\n",
    "        if subset_row:\n",
    "            subset_mat.append(subset_row)\n",
    "\n",
    "    return subset_mat\n",
    "\n",
    "def superset_mat(mat, super_row, super_col):\n",
    "    superset = []\n",
    "    for i_col, col_val in enumerate(super_col):\n",
    "        if i_col == 0:\n",
    "            superset.append(super_row)\n",
    "            continue\n",
    "        row = []\n",
    "        for i_row, row_val in enumerate(super_row):\n",
    "            if i_row == 0:\n",
    "                row.append(col_val)\n",
    "            else:\n",
    "                row.append(mat[i_col - 1][i_row - 1])\n",
    "        superset.append(row)\n",
    "\n",
    "    return superset"
   ]
  },
  {
   "cell_type": "markdown",
   "metadata": {},
   "source": [
    "Next, let's add the main code for elimination"
   ]
  },
  {
   "cell_type": "code",
   "execution_count": null,
   "metadata": {},
   "outputs": [],
   "source": [
    "# Note that this function accepts b as a column instead of row format\n",
    "def eliminate_mat(mat, b):\n",
    "    # pre-process to make sure the first pivot point is not zero\n",
    "    if mat[0][0] == 0 and mat[1][0] != 0:\n",
    "        temp = mat[1]\n",
    "        mat[1] = mat[0]\n",
    "        mat[0] = temp\n",
    "\n",
    "    pivot = mat[0][0]\n",
    "    curr_mat = mat\n",
    "    for row_i, row_val in enumerate(mat_invert(mat)[0]):\n",
    "        if row_i == 0: continue\n",
    "\n",
    "        param = row_val / pivot\n",
    "        \n",
    "        # generate the first operator\n",
    "        operator = gen_identity_mat(mat)\n",
    "        operator[row_i][0] = -param\n",
    "\n",
    "        curr_mat = mat_mul(operator, mat_invert([*mat_invert(curr_mat), b]))\n",
    "        curr_mat = mat_invert(curr_mat)\n",
    "        b = curr_mat.pop()\n",
    "        curr_mat = mat_invert(curr_mat)\n",
    "\n",
    "    max_row, max_col = len(mat) - 1, len(mat[0]) - 1\n",
    "\n",
    "    if max_col > 1 and max_row > 1:\n",
    "        first_row = curr_mat[0]\n",
    "        first_column = mat_invert(curr_mat)[0]\n",
    "\n",
    "        mat_subset = subset_mat(curr_mat)\n",
    "        eliminated_subset, b_subset = eliminate_mat(mat_subset, b[1:])\n",
    "        return superset_mat(eliminated_subset, first_row, first_column), [b[0], *b_subset]\n",
    "    else:\n",
    "        return curr_mat, b\n",
    "\n",
    "# Note that this function accepts b as a column instead of row format            \n",
    "def back_substitution(mat, b):\n",
    "    b_reverse = b[::-1]\n",
    "    answers = [None] * len(mat)\n",
    "    for eq_i, eq in enumerate(mat[::-1]):\n",
    "        lhs_sum = 0\n",
    "        var_index = None\n",
    "        for ans_i, ans in enumerate(answers):\n",
    "            if ans is None and eq[ans_i] != 0:\n",
    "                var_index = ans_i\n",
    "            elif ans is None and eq[ans_i] == 0:\n",
    "                lhs_sum += 0\n",
    "            else:\n",
    "                lhs_sum += eq[ans_i] * ans\n",
    "        new_ans = (b_reverse[eq_i] - lhs_sum) / eq[var_index]\n",
    "        answers[var_index] = new_ans\n",
    "    return answers\n",
    "\n",
    "\n",
    "def solve_mat(mat, b):\n",
    "    eliminated_mat, eliminated_b = eliminate_mat(mat, b)\n",
    "    result = back_substitution(eliminated_mat, eliminated_b)\n",
    "    return result\n"
   ]
  },
  {
   "cell_type": "markdown",
   "metadata": {},
   "source": [
    "## Matrix Multiplication"
   ]
  },
  {
   "cell_type": "markdown",
   "metadata": {},
   "source": [
    "### Mulplication by row times column\n",
    "\n",
    "To get the result of row i and column j in the answer, multiply each item of row i of matrix A with each item of column j of matrix B and add them up.\n",
    "\n",
    "![image](https://github.com/yiheinchai/learn/assets/76833604/badd0f17-963f-42c4-bd7c-fe46c392955e)\n",
    "\n",
    "Notice that because we are multiplying the row of Matrix A with the column of Matrix B, the number of rows of Matrix A must be the same as the number of columns of Matrix B for it to work. Moreover, the result must have the same number of rows as Matrix A and the same number of columns of Matrix B.\n",
    "\n",
    "So if we have matrix A with shape m x n, and matrix B with shape n x p, then the result is m x p."
   ]
  },
  {
   "cell_type": "code",
   "execution_count": null,
   "metadata": {},
   "outputs": [],
   "source": [
    "def shape(mat):\n",
    "    return len(mat), len(mat[0])\n",
    "\n",
    "def mat_mul_row_col(mat1, mat2):\n",
    "    rows, cols = shape(mat1)\n",
    "    ans_mat = []\n",
    "    for i in range(rows):\n",
    "        ans_row = []\n",
    "        for j in range(cols):\n",
    "            row_mat = mat1[i]\n",
    "            col_mat = mat_invert(mat2)[j]\n",
    "            \n",
    "            cell_val = 0\n",
    "            for idx, row_val in enumerate(row_mat):\n",
    "                cell_val += row_val * col_mat[idx]\n",
    "\n",
    "            ans_row.append(cell_val)\n",
    "        ans_mat.append(ans_row)\n",
    "    return ans_mat\n",
    "                "
   ]
  },
  {
   "cell_type": "markdown",
   "metadata": {},
   "source": [
    "### Multiplication by columns\n",
    "\n",
    "The operator is on the righthand side of the matrix. Each column in the operator decides on the corresponding column of the answer. Each item in the column in the operator tells us the combinations of the columns of matrix A to use to generate the corresponding column in the answer.\n",
    "\n",
    "We can also see multiplicaiton of columns as each column of matrix B is multiplied by the entire matrix A (based on the instructed combinations), to produce the respective column in the answer matrix C.\n",
    "\n",
    "It is easy to see that because of this, the number of columns in the operator (matrix B) must be the same as the number of column in the answer. Moreover, the length of each column is henceforth determined by the length of the columns of matrix A, because we are simply taking combinations of matrix A.\n",
    "\n",
    "![image](https://github.com/yiheinchai/learn/assets/76833604/f0b33e22-4854-400a-8c4e-598a80585a20)"
   ]
  },
  {
   "cell_type": "code",
   "execution_count": null,
   "metadata": {},
   "outputs": [],
   "source": [
    "def mat_mul_col(mat1, mat2):\n",
    "    inv_mat1 = mat_invert(mat1)\n",
    "    inv_mat2 = mat_invert(mat2)\n",
    "\n",
    "    ans_mat = []\n",
    "\n",
    "    for col in inv_mat2:\n",
    "        new_cols = []\n",
    "        for idx, multiplier in enumerate(col):\n",
    "            new_cols.append([val * multiplier for val in inv_mat1[idx]])\n",
    "        ans_col = mat_add_col(new_cols)\n",
    "        ans_mat.append(ans_col)\n",
    "    \n",
    "    return mat_invert(ans_mat)"
   ]
  },
  {
   "cell_type": "markdown",
   "metadata": {},
   "source": [
    "### Multiplication by rows\n",
    "\n",
    "When looking at rows, the operator is the on the lefthand side of the matrix. Each row in the operator (matrix A) decides on the corresonding row of the answer. Each item in the row in the operator tells us the combinations of the rows of matrix B to use to generate the corresonding row in the answer.\n",
    "\n",
    "We cna also see multiplication of rows as each row of matrix A is multiplied by the entire matrix B (based on instructed combinations), to produce the respective row in the answer matrix C.\n",
    "\n",
    "It is easy to see that because of this, the number of rows in the operator (matrix A) must be hte same as the number of rows in the answer. Morover, the length of each row is henceforth determined by the lenght of the rows of matrix B, because we are simply taking combinations of matrix B.\n",
    "\n",
    "![image](https://github.com/yiheinchai/learn/assets/76833604/a298e452-4ba0-4f2b-a33b-074fd894ac17)"
   ]
  },
  {
   "cell_type": "code",
   "execution_count": null,
   "metadata": {},
   "outputs": [],
   "source": [
    "def mat_mul_row(mat1, mat2):\n",
    "    ans_mat = []\n",
    "    for row in mat1:\n",
    "        ans_row = []\n",
    "        for row_no, multiplier in enumerate(row):\n",
    "            ans_row.append([val * multiplier for val in mat2[row_no]])\n",
    "        ans_mat.append(mat_add_col(ans_row))\n",
    "    return ans_mat"
   ]
  },
  {
   "cell_type": "markdown",
   "metadata": {},
   "source": [
    "### Multiplication by columns x rows\n",
    "We can see multiplication as columns x rows, where we are simply taking combinations of a single column, which means that the answer will be multiples of the single column. Note that because of this property, we realise that all the rows vectors will lie on the same line, all the column vectors wil also lie on the same line (because they are simply multiples)\n",
    "\n",
    "![image](https://github.com/yiheinchai/learn/assets/76833604/f1811da7-4bc5-4ecc-ba42-dd5da8569f52)\n",
    "\n",
    "Applying this single operation to the entire matrix, we simply do (first column x first row) + (second column x second row) etc.\n",
    "\n",
    "![image](https://github.com/yiheinchai/learn/assets/76833604/9a799fdf-a6c4-4a62-8eb4-49453220f4a9)"
   ]
  },
  {
   "cell_type": "code",
   "execution_count": null,
   "metadata": {},
   "outputs": [],
   "source": [
    "def add_mats(*mats):\n",
    "    ans_mat = []\n",
    "    for row_no, row in enumerate(mats[0]):\n",
    "        ans_row = []\n",
    "        for col_no, col in enumerate(row):\n",
    "            cell_val = 0\n",
    "            for mat in mats:\n",
    "                cell_val += mat[row_no][col_no]\n",
    "            ans_row.append(cell_val)\n",
    "        ans_mat.append(ans_row)\n",
    "\n",
    "    return ans_mat\n",
    "\n",
    "\n",
    "def mat_mul_col_row(mat1, mat2):\n",
    "    ans_mats = []\n",
    "    for idx, col in enumerate(mat_invert(mat1)):\n",
    "        row = mat2[idx]\n",
    "        ans_mats.append(mat_mul([[val] for val in col], [row]))\n",
    "    \n",
    "    return add_mats(*ans_mats)\n"
   ]
  },
  {
   "cell_type": "markdown",
   "metadata": {},
   "source": [
    "### Multiplicaton by blocks\n",
    "\n",
    "We can also multiply matrices using a recurisve algorithm by splitting them up into blocks and multiplying the blocks using the same principles as multiplying numbers in matrices.\n",
    "\n",
    "![image](https://github.com/yiheinchai/learn/assets/76833604/47ad1395-6d83-42a7-b606-389a366ab858)"
   ]
  },
  {
   "cell_type": "code",
   "execution_count": null,
   "metadata": {},
   "outputs": [],
   "source": [
    "def split_mat(mat):\n",
    "    rows, cols = shape(mat)\n",
    "    return (\n",
    "       [[[row[: int((rows / 2))] for row in mat][: int((rows / 2))], # 0,0\n",
    "        [row[int((rows / 2)) :] for row in mat][: int((rows / 2))]], # 0,1\n",
    "        [[row[: int((rows / 2))] for row in mat][int((rows / 2)) :], # 1,0\n",
    "        [row[int((rows / 2)):] for row in mat][int((rows / 2)):]]] # 1,1\n",
    "    )\n",
    "\n",
    "def join_block_mat(block_mat):\n",
    "    joined_mat = []\n",
    "    for block_row in block_mat:\n",
    "        for mat_row_idx, mat_row in enumerate(block_row[0]):\n",
    "            # for each mat in block row, extract the rows and combine them in one row.\n",
    "            ans_row = []\n",
    "            for mat in block_row:\n",
    "              for val in mat[mat_row_idx]:\n",
    "                ans_row.append(val)\n",
    "            joined_mat.append(ans_row)\n",
    "    return joined_mat  \n",
    "\n",
    "def mat_mul_blocks(mat1, mat2):\n",
    "    rows, cols = shape(mat1)\n",
    "\n",
    "    if rows % 2 == 0 and rows > 2:\n",
    "        mat1_split = split_mat(mat1)\n",
    "        mat2_split = split_mat(mat2)\n",
    "        ans_mat = []\n",
    "        for row_i, row in enumerate(mat1_split):\n",
    "            ans_row = []\n",
    "          \n",
    "            for col_i, col in enumerate(row):\n",
    "                row_to_mul = mat1_split[row_i]\n",
    "                col_to_mul = mat_invert(mat2_split)[col_i]\n",
    "                added_mats = add_mats(*[mat_mul_blocks(row_item, col_to_mul[idx]) for idx, row_item in enumerate(row_to_mul)])\n",
    "                ans_row.append(added_mats)\n",
    "            ans_mat.append(ans_row)\n",
    "        return join_block_mat(ans_mat)\n",
    "    else:\n",
    "        return mat_mul(mat1, mat2)  "
   ]
  },
  {
   "cell_type": "markdown",
   "metadata": {},
   "source": [
    "## Inverses"
   ]
  },
  {
   "cell_type": "markdown",
   "metadata": {},
   "source": [
    "### Inverses basics\n",
    "\n",
    "A matrix will be invertible and nonsingular if an inverse exists for the matrix.\n",
    "\n",
    "A matrix will have an inverse if none of the vectors that make up the matrix is colinear to each other. This means that each vector in the matrix contians new information, there is no repeat information. If there are two vectors with repeat information, then it is not possibble to solve for the matrix and hence it is also not possible to find the inverse of the matrix.\n",
    "\n",
    "For example, for the matrix [[1,3] [5,15]], the two vectors [1,3] and [5,15] actually point in the exact same direction (colinear) and therefore it does not contain enough information for 2 variables, and hence this matrix is no solvable and does not have an inverse."
   ]
  },
  {
   "cell_type": "markdown",
   "metadata": {},
   "source": [
    "### Process of finding inverses"
   ]
  },
  {
   "cell_type": "markdown",
   "metadata": {},
   "source": [
    "The idea of elimination is simple, reduce the unknown by annilating variables. Use the equations with annilated variables to annilate more variables, until you have gotten isolated variables.\n",
    "\n",
    "It doesn't matter which line or which position you subtract from you can annilate in any direction as long as you achieve the goal of reaching a single isolated variable.\n",
    "\n",
    "Typically,\n",
    "Start with X number of variables. Annilate to get X-1 number of variables. Use equation with X-1 number of variables to annilate to get X-2 number of variables in the next equation. Eventually X-n = 1. With just 1 variable, you can find out what that is. Then use the 1 variable to eliminate upwards.\n",
    "\n",
    "This way, there is no need to do back substitution, just eliminate all the way. The benefit of using such a method is that we can derive a general algorithm that also works with Gauss-Jordan solutions to find the inverse of matrices.\n",
    "\n"
   ]
  },
  {
   "cell_type": "markdown",
   "metadata": {},
   "source": [
    "First, we need to modify `eliminate_mat` so that it accepts b as a matrix"
   ]
  },
  {
   "cell_type": "code",
   "execution_count": null,
   "metadata": {},
   "outputs": [],
   "source": [
    "def compose_aug_mat(mat, b):\n",
    "    return [[*row, *b[i]] for i, row in enumerate(mat)]\n",
    "\n",
    "def decompose_aug_mat(mat_b, b_cols):\n",
    "    inv_mat = mat_invert(mat_b)\n",
    "    b = []\n",
    "    for i in range(b_cols):\n",
    "        b.append(inv_mat.pop())\n",
    " \n",
    "    mat = mat_invert(inv_mat)\n",
    "    b = mat_invert(list(reversed(b)))\n",
    "\n",
    "    return mat, b\n",
    "\n",
    "def eliminate_mat(mat, b):\n",
    "    # pre-process to make sure the first pivot point is not zero\n",
    "    if mat[0][0] == 0 and mat[1][0] != 0:\n",
    "        temp = mat[1]\n",
    "        mat[1] = mat[0]\n",
    "        mat[0] = temp\n",
    "\n",
    "    pivot = mat[0][0]\n",
    "    curr_mat = mat\n",
    "    curr_b = b\n",
    "    for row_i, row_val in enumerate(mat_invert(mat)[0]):\n",
    "        if row_i == 0: continue\n",
    "\n",
    "        param = row_val / pivot\n",
    "        \n",
    "        # generate the first operator\n",
    "        operator = gen_identity_mat(mat)\n",
    "        operator[row_i][0] = -param\n",
    "\n",
    "        eliminated_mat_with_b = mat_mul(operator, compose_aug_mat(curr_mat, curr_b))\n",
    "\n",
    "        curr_mat, curr_b = decompose_aug_mat(eliminated_mat_with_b, len(b[0]))\n",
    "\n",
    "    max_row, max_col = len(mat) - 1, len(mat[0]) - 1\n",
    "\n",
    "    if max_col > 1 and max_row > 1:\n",
    "        first_row = curr_mat[0]\n",
    "        first_column = mat_invert(curr_mat)[0]\n",
    "\n",
    "        mat_subset = subset_mat(curr_mat)\n",
    "        eliminated_subset, b_subset = eliminate_mat(mat_subset, curr_b[1:])\n",
    "        return superset_mat(eliminated_subset, first_row, first_column), [curr_b[0], *b_subset]\n",
    "    else:\n",
    "        return curr_mat, curr_b"
   ]
  },
  {
   "cell_type": "markdown",
   "metadata": {},
   "source": [
    "Next we need to define a function that does reverse elimination, as a replacement of back substitution. We notice that if we do a double mirror of the eliminated matrix, we can apply the same recursive elimination algorithm to replace the need for back-substitution."
   ]
  },
  {
   "cell_type": "code",
   "execution_count": null,
   "metadata": {},
   "outputs": [],
   "source": [
    "def double_mirror_mat(mat):\n",
    "    return mat_invert(mat_invert(mat[::-1])[::-1])\n",
    "\n",
    "def reverse_eliminate_mat(mat, b):\n",
    "    # double reverse the matrix\n",
    "    double_reversed_b = double_mirror_mat(b)\n",
    "    double_reversed_mat = double_mirror_mat(mat)\n",
    "\n",
    "    # do gaussian elimination\n",
    "    eliminated_mat, eliminated_b = eliminate_mat(double_reversed_mat, double_reversed_b)\n",
    "\n",
    "    # return the matrix in the unmirrored form\n",
    "    return double_mirror_mat(eliminated_mat), double_mirror_mat(eliminated_b)\n"
   ]
  },
  {
   "cell_type": "markdown",
   "metadata": {},
   "source": [
    "Next, we noticed that the coefficients of the final matrix is not one, we simply define a function that moves all the coefficents from A, the matrix, to b the vector."
   ]
  },
  {
   "cell_type": "code",
   "execution_count": null,
   "metadata": {},
   "outputs": [],
   "source": [
    "def clean_coeff_mat(mat, b):\n",
    "    curr_b = []\n",
    "\n",
    "    for i, row in enumerate(mat):\n",
    "        coeff = next((x for i, x in enumerate(row) if x), None)\n",
    "        curr_b.append([ num / coeff for num in b[i]])\n",
    "\n",
    "    return gen_identity_mat(mat), curr_b"
   ]
  },
  {
   "cell_type": "markdown",
   "metadata": {},
   "source": [
    "Lastly, let's generate the new matrix solver! That support Gauss-Jordon style"
   ]
  },
  {
   "cell_type": "code",
   "execution_count": null,
   "metadata": {},
   "outputs": [],
   "source": [
    "def solve_mat(mat, b):\n",
    "    return clean_coeff_mat(*reverse_eliminate_mat(*eliminate_mat(mat, b)))"
   ]
  },
  {
   "cell_type": "markdown",
   "metadata": {},
   "source": [
    "Lastly, we can very simply generate a inverse finder by exploiting the properties of the matrix.\n",
    "\n",
    "We know that for a given matrix equation Ax = b. Let's make `b` a identity matrix. Ax = I. This means that x must be the inverse of A, A^-1. Therefore, if we solve for x via Gaussian elimination, we will find what is the inverse of A.\n",
    "\n",
    "As we solve for x, we use the matrix [A I] and apply a series of operations via elimination matrices, E. The result will be E [A I].\n",
    "\n",
    "We know that in our result we get `I` first. E[A I] = [I ?]\n",
    "We can rewrite this into blocks as [[EA] [EI]] = [[I] [?]].\n",
    "From this, it is obvious that EA = I. This implies that E must be A inverse to produce I.\n",
    "If E is A inverse, then EI must produce A inverse too. And therefore, the righthand side is [I A^-1].\n",
    "\n",
    "Knowing this property, we can use the new matrix solver, taking the `mat` as A, and `b` as I. Then, in the result answer, the `mat` returned will be I, and the `b` returned will be A^-1"
   ]
  },
  {
   "cell_type": "code",
   "execution_count": null,
   "metadata": {},
   "outputs": [],
   "source": [
    "def find_inverse(mat):\n",
    "    _, inverse_mat = solve_mat(mat, gen_identity_mat(mat))\n",
    "    return inverse_mat"
   ]
  },
  {
   "cell_type": "markdown",
   "metadata": {},
   "source": [
    "## Factorisation into A = LU"
   ]
  },
  {
   "cell_type": "markdown",
   "metadata": {},
   "source": [
    "#### Finding inverses of matrix products\n",
    "\n",
    "The inverse of matrix A multiplied by matrix B is (B-1)(A-1) which expressed as the following:\n",
    "\n",
    "AB x B-1 A-1 = I\n",
    "\n",
    "Notice that B-1 comes first before A-1. Intuitively, we can see why this is the case. Also note that when multiplying matrices we can shift the parenthesis to choose which operation we want to do first. \n",
    "\n",
    "Therefore, (A)(B)(B-1)(A-1) = I can be first computed as:\n",
    "A(B B-1)A-1 = I\n",
    "AI A-1 = I\n",
    "A A-1 = I\n",
    "I = I\n",
    "\n",
    "Mentally, when you want to find the inverse of the a matrix multiplication, as yourself, what need to multiply to the matrix the annilate all the matrix to produce a identity matrix?\n",
    "\n",
    "So inverse of KYC will be C-1 (to annilate the last term), the Y-1 to annilate the second last term, and K-1 to annilate the first term. Hence, inverse if C-1 Y-1 K-1. No need to memorise that it is in opposite order, just consider what you need to multiply to annilate them, considering that you can move the parenthesis to multiply in whichever order you want.\n",
    "\n"
   ]
  },
  {
   "cell_type": "markdown",
   "metadata": {},
   "source": [
    "#### Finding inverses of transposed matrix\n",
    "\n",
    "To find the transpose of the inverse of A, you can simply find the inverse and then transpose it. Or, you can also simply find the transpose of A and find the inverse of the transpose.\n",
    "\n",
    "In general, it does not matter which order you do the inverse or the transpose.\n",
    "\n",
    "To prove it, consider:\n",
    "A A-1 = I\n",
    "\n",
    "Applying transpose to both sides,\n",
    "\n",
    "(A A^-1)^T = I^T\n",
    "\n",
    "Note that transpose of an identity matrix is still the identity matrix. Moreover, when applying the transpose individually to the terms in the bracket, the order flips.\n",
    "\n",
    "A^-1^T A^T = I\n",
    "\n",
    "Note that the inverse of A^T will be denoted as A^T^-1. Moreover, A^-1^T must be also be the inverse of the transpose of the matrix because when you multiply it be the transpose you get the identity matrix.\n",
    "\n",
    "Therefore, A^T^-1 = A^-1^T, showing that you can do inverses or tranposes in any order.\n",
    "\n",
    "\n",
    "\n"
   ]
  },
  {
   "cell_type": "markdown",
   "metadata": {},
   "source": [
    "#### A = L U factorisation\n",
    "\n",
    "Normally in Gaussian elimination, we apply E to A to get U, where U is the upper triangular form which makes it easy to calculate x to solve the system of linear equations.\n",
    "\n",
    "E32 E21 Ex A = U\n",
    "\n",
    "We can collpase all E permutation matrices into one and find U in a single step like so:\n",
    "\n",
    "Eall A = U\n",
    "\n",
    "However, the problem here is that it is not immediately obvious the specific order in which the row operations are conducted by inspecting Eall. This is because the order of operations is reversed. \n",
    "\n",
    "Notice that when we are calculating Eall with E21 E13 E12, the latest permutation is always on the lefthand side and the first permuation is on the right hand side. This causes problems. \n",
    "\n",
    "![image](https://github.com/yiheinchai/learn/assets/76833604/d7212662-3b63-4482-9758-6c75d6c6cad5)\n"
   ]
  },
  {
   "cell_type": "markdown",
   "metadata": {},
   "source": [
    "Notice that E21 is means to modify the second row using upper rows (row 1). E32 is meant to modify the third row using upper rows, (row 2).\n",
    "\n",
    "Intuitively, E32 modifies the third row by using values of the second row, hence it has a multipler value in the third row. E21 modifies the values of the second row using values of the first row, hence it has multipler value in the second row. When we apply E32 to E21, we end up using the multipler value of the second row (-2) to modify the third row with another multiplier value (-5). This mixes up the permutations to produce an extra 10 in the final E. Where in fact, the individual operations did not include a 10 at all. Operations interfering with each other is not ideal as the final E is not representative of the operations that is carried out in each step of the Gaussian elimination.\n",
    "\n",
    "It is important to note that if we did the operations in the reverse direction, they will not interfere with each other, as the operations flow in the direction with no multiplier values, allowing for the final E to only include the multiplier values used in Gaussian elimination and no additional values are introduced. In other words, the multipliers go directly into E. \n",
    "\n",
    "But how do we do the permutations matrices in reverse order? A = L U factorisation solves this problem.\n",
    "\n",
    "\n"
   ]
  },
  {
   "cell_type": "markdown",
   "metadata": {},
   "source": [
    "![image](https://github.com/yiheinchai/learn/assets/76833604/c5ce3537-fe3f-4831-89d5-fc819531bca8)"
   ]
  },
  {
   "cell_type": "markdown",
   "metadata": {},
   "source": [
    "EA = U\n",
    "E-1 E A = E-1 U\n",
    "A = E-1 U\n",
    "\n",
    "E = E4 E3 E2\n",
    "E-1 = E2^-1 E3^-1 E4^-1 = L\n",
    "\n",
    "A = L U\n",
    "\n",
    "By using L instead of U, the permutation matrices are in the right order such that the multipliers do not interfere with each other and they keep their original values in the final L matrix.\n",
    "\n",
    "Particularly, E3-1 modifies row 3 using row 2 of E4-1, however row 2 of E4-1 does not contain any multipliers only the identity hence it would not interfere with E3-1 (the multiplier on E4^-1 is on row 3). Moreove,r E2^-1 modifies row 2 using row 1 of E3^-1, which only contains the identity and no multiplier. \n",
    "\n",
    "Notice that in L, apart from the identity matrix, only 2 and 5 are present, both of which are the core multipliers for each row operation in Gaussian elimination, there is no new values introduced, hence providing an accurate representation of the row operations that happen in Gaussian elimination."
   ]
  },
  {
   "cell_type": "markdown",
   "metadata": {},
   "source": [
    "##### Finding simple inverses\n",
    "\n",
    "It is very easy to find the inverse of simple permutation matrices. For example,\n",
    "\n",
    "[[1 0] [5 1]] this permutation matrix permutates the second row by adding 5 of the first row to the second row.\n",
    "\n",
    "Therefore to reverse the operation (to find the inverse E-1 E A = A), we simple minus 5 of the first row from the second row with the following permutation matrix: [[1 0] [-5 1]].\n",
    "\n",
    "Moreover, row exchange matrices are also very easy to find the inverse of.\n",
    "\n",
    "For example, [[0 1] [1 0]] this matrix exchanges the second row with the first row and the first row with the second row. To reverse this operation, we simply do the same operation again and this is swap the two rows back."
   ]
  },
  {
   "cell_type": "markdown",
   "metadata": {},
   "source": [
    "### Time complexity on matrix multiplications\n",
    "\n",
    "As per previous implementatin of elimination as shown above, we use a recursive algorithm where we apply the same elimination steps to n-1 size matrix over and over again until we obtain a 2 x 2 matrix.\n",
    "\n",
    "Note that each elimination steps requires to make the entire column 0. So if each column has n rows, then we need to make n rows 0. Now to make each row 0, we need to use the multiplier on each item of the row and the subtract. Assuming the multiplication and subtraction can be considered as 1 operation, then if there are n items on each row, this means that there is n x n operations for the first elimination step for the first column.\n",
    "\n",
    "considering that there are n columns, this estimates to n x n x n or n^3 operations. However, we need to consider that every column this is less and less rows and columns because we only take a smaller subset of the matrix to do the elimination steps as shown below:\n",
    "\n",
    "![image](https://github.com/yiheinchai/learn/assets/76833604/8674c8ee-e27a-4533-ba2a-cc8bd8a5826e)\n",
    "\n",
    "So it looks something like:\n",
    "n^2 + (n-1)^2 + (n-2)^2 + ... 2^2\n",
    "\n",
    "To calculate this, we can integrate with respect to x from x=2 to x=n like this:\n",
    "\n",
    "integrate(x^2, from=2, to=n)\n",
    "\n",
    "The operation of integration entails adding one to the power and dividing by the new power, so integration of n^2 becomes 1/3 n^3. \n",
    "\n",
    "To calculate the time complexity of the right handside (b), because there is only 1 column, it becomes 1 x n x n when it is n^2."
   ]
  },
  {
   "cell_type": "markdown",
   "metadata": {},
   "source": [
    "### Permutations of identity matrices\n",
    "\n",
    "For a 3 x 3 identity matrix, there are 6 permutations by swapping the positions of the 3 rows round, 3 x 2 x 1 = 6. \n",
    "\n",
    "For a 4 x 4 identity matrix, there are 24 permutations by swapping the positions of the rows around.\n",
    "\n",
    "Note that multiplying any of the matrix with another withiin this group will always result in another matrix in the group. This is because since the group contains all permutations of swapping the rows around, and each item in the group applies an operation to swap the rows, multiplying one matrix of the group with another matrix of this same group will still result in the swapping of rows, which we know that the group already encompass all possiblities, and henceforth the resultant matrix will still be part of the group.\n",
    "\n",
    "Also note that the inverses of the matrix will also be itself, because the to reverse and exchange of rows, we simply do the exchange of rows again."
   ]
  },
  {
   "cell_type": "markdown",
   "metadata": {},
   "source": []
  }
 ],
 "metadata": {
  "language_info": {
   "name": "python"
  },
  "orig_nbformat": 4
 },
 "nbformat": 4,
 "nbformat_minor": 2
}
