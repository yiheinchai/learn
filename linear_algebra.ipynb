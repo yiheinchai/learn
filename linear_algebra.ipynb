{
 "cells": [
  {
   "cell_type": "markdown",
   "metadata": {},
   "source": [
    "# Linear Algebra"
   ]
  },
  {
   "cell_type": "markdown",
   "metadata": {},
   "source": [
    "## Basics"
   ]
  },
  {
   "cell_type": "markdown",
   "metadata": {},
   "source": [
    "### Column Operations"
   ]
  },
  {
   "cell_type": "markdown",
   "metadata": {},
   "source": [
    "Column operations happen on the right hand side of the matrix.\n",
    "\n",
    "Each column corresponds to the column that you want to get as the answer.\n",
    "Each item in the column corresponds to the column that you want to take to get to the answer.\n",
    "\n",
    "For example,\n",
    "\n",
    "[[1 2]  [[0 1]    [[2 1]\n",
    "\n",
    " [3 4]]  [1 0]] =  [4 3]]\n",
    "\n",
    "This means that to get the first column of the answer, we take 0 of the first column + 1 of the second column. This essentially puts the second column of the matrix to the first column of the answer.\n",
    "This means that to get the second column of the answer, we take 1 of the first column + 0 of the second column. This essentially puts the first column of the matrix to the second column of the answer."
   ]
  },
  {
   "cell_type": "markdown",
   "metadata": {},
   "source": [
    "### Row Operations"
   ]
  },
  {
   "cell_type": "markdown",
   "metadata": {},
   "source": [
    "Row operations with matrix happen on a simple principle. The params are on the left hand side and the matrix you want to operate on is on the right handside.\n",
    "\n",
    "For example:\n",
    "\n",
    "[1 0 0] [[1 2 3] [4 5 6] [7 8 9]] \n",
    "basically means, take 1 x row 1, take 0 x row 2, and take 0 x row 3.\n",
    "\n",
    "Note that when you multiply a row by a matrix, you get a row back.\n",
    "Now, going back to eliminations, we can use a matrix as the operator on the matrix instead.\n",
    "Every row in the matrix operator decides on the corresponding row of the result. Every column in the matrix operator decides on how we want to use the surrounding rows to obtain the result.\n",
    "\n",
    "Take the identity matrix:\n",
    "[[1 0 0] [0 1 0] [0 0 1]] x [[1 2 3] [4 5 6] [7 8 9]] = [[1 2 3] [4 5 6] [7 8 9]]\n",
    "\n",
    "To narrate through what is happening,\n",
    "The first row of the operator decides on what the first row of the answer is. In this case, we said we take the 1 x first row of the matrix, and add it with 0 of the second row and 0 of the thrid row, meaning that we get back the first row for the answer.\n",
    "In the second row of the operator, we said that we take 0 x first row, 1 x second row, 0 x third row, meaning get we get back second row of the matrix for the second row of the answer.\n",
    "In the third row of the operator, we said that we take 0 x first, row, 0 x second row, 1 x third row, meaning get we get back third row of the matrix for the third row of the answer."
   ]
  },
  {
   "cell_type": "markdown",
   "metadata": {},
   "source": [
    "## Elimination"
   ]
  },
  {
   "cell_type": "markdown",
   "metadata": {},
   "source": [
    "Elimination of linear algebra is the basic process of eliminating all the variables from a equation that you have 1 variable left. For example, if you have an equation with X, Y, Z variables, you can use the other equations to knockout X, Y variables such that you have Z left. \n",
    "\n",
    "In most text, they will teach to use a certain position as a pivot, but it really doesn't matter. Just do whatever it takes to eliminate the variables, you can subtract from any position as long as it serves the purpose in eliminating the variables.\n",
    "\n",
    "Moreover, you can observe that once you have eliminated one equation to only have 1 variable, you can then use that equation to eliminate the other equations. For example, if you have an equation with 0X + 0Y + 2Z, this becomes a powerful tool to eliminate Z from the other 2 equations because X and Y is zero and has no effect. In the end, you keep doing eliminations until you have only 1 variable per equation."
   ]
  },
  {
   "cell_type": "markdown",
   "metadata": {},
   "source": [
    "### Definitions\n",
    "\n",
    "A = matrix to be eliminated\n",
    "b = answer on the righthand side\n",
    "\n",
    "U = eliminated matrix, also called upper triangular because only the top contains values and the bottom triangle are all zeroes\n",
    "c = eliminated answer\n",
    "\n",
    "E = elimination matrix to permutate A matrix\n",
    "\n",
    "Ax = b\n",
    "\n",
    "with E matrix permutations, it becomes,\n",
    "\n",
    "Ux = c\n"
   ]
  },
  {
   "cell_type": "markdown",
   "metadata": {},
   "source": [
    "### Failures in elimination"
   ]
  },
  {
   "cell_type": "markdown",
   "metadata": {},
   "source": [
    "Intuitively, elimination will fail when you eliminate more than 1 variable when you subtract. This will cause it to fail because you will end up with a eqution with X isolated, Y isolated, but none with Z isolated, because you accidentally eliminated Z together with another variable. This problem occurs because two equations are not independent and they are just derivations of another. In this case, you really only have information for two equations, so it is natural that you don't have enough information to solve for all three variables."
   ]
  },
  {
   "cell_type": "markdown",
   "metadata": {},
   "source": [
    "### In Row Form"
   ]
  },
  {
   "cell_type": "markdown",
   "metadata": {},
   "source": [
    "#### Row Operations with matrix"
   ]
  },
  {
   "cell_type": "markdown",
   "metadata": {},
   "source": [
    "Row operations with matrix happen on a simple principle. The params are on the left hand side and the matrix you want to operate on is on the right handside.\n",
    "\n",
    "For example:\n",
    "\n",
    "[1 0 0] [[1 2 3] [4 5 6] [7 8 9]] \n",
    "basically means, take 1 x row 1, take 0 x row 2, and take 0 x row 3.\n",
    "\n",
    "Note that when you multiply a row by a matrix, you get a row back.\n",
    "Now, going back to eliminations, we can use a matrix as the operator on the matrix instead.\n",
    "Every row in the matrix operator decides on the corresponding row of the result. Every column in the matrix operator decides on how we want to use the surrounding rows to obtain the result.\n",
    "\n",
    "Take the identity matrix:\n",
    "[[1 0 0] [0 1 0] [0 0 1]] x [[1 2 3] [4 5 6] [7 8 9]] = [[1 2 3] [4 5 6] [7 8 9]]\n",
    "\n",
    "To narrate through what is happening,\n",
    "The first row of the operator decides on what the first row of the answer is. In this case, we said we take the 1 x first row of the matrix, and add it with 0 of the second row and 0 of the thrid row, meaning that we get back the first row for the answer.\n",
    "In the second row of the operator, we said that we take 0 x first row, 1 x second row, 0 x third row, meaning get we get back second row of the matrix for the second row of the answer.\n",
    "In the third row of the operator, we said that we take 0 x first, row, 0 x second row, 1 x third row, meaning get we get back third row of the matrix for the third row of the answer."
   ]
  },
  {
   "cell_type": "markdown",
   "metadata": {},
   "source": [
    "#### In code"
   ]
  },
  {
   "cell_type": "markdown",
   "metadata": {},
   "source": [
    "Let's define some utility function"
   ]
  },
  {
   "cell_type": "code",
   "execution_count": null,
   "metadata": {},
   "outputs": [],
   "source": [
    "def mat_invert(mat):\n",
    "    inverted_mat = []\n",
    "    for col_index, _ in enumerate(mat[0]):\n",
    "        inv_row = []\n",
    "        for row in mat:\n",
    "            inv_row.append(row[col_index])\n",
    "        inverted_mat.append(inv_row)\n",
    "\n",
    "    return inverted_mat\n",
    "\n",
    "def mat_add_row(mat):\n",
    "    summed_mat = []\n",
    "    for row in mat:\n",
    "        row_sum = 0\n",
    "        for column in row:\n",
    "            row_sum += column\n",
    "        summed_mat.append(row_sum)\n",
    "\n",
    "    return summed_mat\n",
    "\n",
    "def mat_add_col(mat):\n",
    "    inverted_mat = mat_invert(mat)\n",
    "    return mat_add_row(inverted_mat)\n",
    "\n",
    "def mat_mul(mat1, mat2):\n",
    "    final_mat = []\n",
    "    for row_index, row in enumerate(mat1):\n",
    "\n",
    "        new_rows = [] # the new row at row_index of the answer before collapsing\n",
    "        for col_index, col_val in enumerate(row):\n",
    "            # Identified the col_val and row location: col_index\n",
    "            # Note that col_index of operator is the row_index of the target mat\n",
    "            new_row = []\n",
    "            for row_val in mat2[col_index]:\n",
    "                new_row.append(col_val * row_val)\n",
    "            \n",
    "            new_rows.append(new_row)\n",
    "        \n",
    "        # Add the columns together\n",
    "        final_row = mat_add_col(new_rows)\n",
    "        final_mat.append(final_row)\n",
    "    return final_mat\n",
    "\n",
    "def gen_identity_mat(mat):\n",
    "    max_row, max_col = len(mat) - 1, len(mat[0]) - 1\n",
    "    i_mat = []\n",
    "    for i_col in range(max_col + 1):\n",
    "        row = []\n",
    "        for i_row in range(max_row + 1):\n",
    "            if i_row == i_col:\n",
    "                row.append(1)\n",
    "            else:\n",
    "                row.append(0)\n",
    "        i_mat.append(row)\n",
    "    return i_mat\n",
    "\n",
    "def subset_mat(mat):\n",
    "    subset_mat = []\n",
    "    for row_i, row in enumerate(mat):\n",
    "        subset_row = []\n",
    "        for col_i, col in enumerate(row):\n",
    "            if row_i == 0 or col_i == 0:\n",
    "                continue\n",
    "            subset_row.append(col)\n",
    "        if subset_row:\n",
    "            subset_mat.append(subset_row)\n",
    "\n",
    "    return subset_mat\n",
    "\n",
    "def superset_mat(mat, super_row, super_col):\n",
    "    superset = []\n",
    "    for i_col, col_val in enumerate(super_col):\n",
    "        if i_col == 0:\n",
    "            superset.append(super_row)\n",
    "            continue\n",
    "        row = []\n",
    "        for i_row, row_val in enumerate(super_row):\n",
    "            if i_row == 0:\n",
    "                row.append(col_val)\n",
    "            else:\n",
    "                row.append(mat[i_col - 1][i_row - 1])\n",
    "        superset.append(row)\n",
    "\n",
    "    return superset"
   ]
  },
  {
   "cell_type": "markdown",
   "metadata": {},
   "source": [
    "Next, let's add the main code for elimination"
   ]
  },
  {
   "cell_type": "code",
   "execution_count": null,
   "metadata": {},
   "outputs": [],
   "source": [
    "# Note that this function accepts b as a column instead of row format\n",
    "def eliminate_mat(mat, b):\n",
    "    # pre-process to make sure the first pivot point is not zero\n",
    "    if mat[0][0] == 0 and mat[1][0] != 0:\n",
    "        temp = mat[1]\n",
    "        mat[1] = mat[0]\n",
    "        mat[0] = temp\n",
    "\n",
    "    pivot = mat[0][0]\n",
    "    curr_mat = mat\n",
    "    for row_i, row_val in enumerate(mat_invert(mat)[0]):\n",
    "        if row_i == 0: continue\n",
    "\n",
    "        param = row_val / pivot\n",
    "        \n",
    "        # generate the first operator\n",
    "        operator = gen_identity_mat(mat)\n",
    "        operator[row_i][0] = -param\n",
    "\n",
    "        curr_mat = mat_mul(operator, mat_invert([*mat_invert(curr_mat), b]))\n",
    "        curr_mat = mat_invert(curr_mat)\n",
    "        b = curr_mat.pop()\n",
    "        curr_mat = mat_invert(curr_mat)\n",
    "\n",
    "    max_row, max_col = len(mat) - 1, len(mat[0]) - 1\n",
    "\n",
    "    if max_col > 1 and max_row > 1:\n",
    "        first_row = curr_mat[0]\n",
    "        first_column = mat_invert(curr_mat)[0]\n",
    "\n",
    "        mat_subset = subset_mat(curr_mat)\n",
    "        eliminated_subset, b_subset = eliminate_mat(mat_subset, b[1:])\n",
    "        return superset_mat(eliminated_subset, first_row, first_column), [b[0], *b_subset]\n",
    "    else:\n",
    "        return curr_mat, b\n",
    "\n",
    "# Note that this function accepts b as a column instead of row format            \n",
    "def back_substitution(mat, b):\n",
    "    b_reverse = b[::-1]\n",
    "    answers = [None] * len(mat)\n",
    "    for eq_i, eq in enumerate(mat[::-1]):\n",
    "        lhs_sum = 0\n",
    "        var_index = None\n",
    "        for ans_i, ans in enumerate(answers):\n",
    "            if ans is None and eq[ans_i] != 0:\n",
    "                var_index = ans_i\n",
    "            elif ans is None and eq[ans_i] == 0:\n",
    "                lhs_sum += 0\n",
    "            else:\n",
    "                lhs_sum += eq[ans_i] * ans\n",
    "        new_ans = (b_reverse[eq_i] - lhs_sum) / eq[var_index]\n",
    "        answers[var_index] = new_ans\n",
    "    return answers\n",
    "\n",
    "\n",
    "def solve_mat(mat, b):\n",
    "    eliminated_mat, eliminated_b = eliminate_mat(mat, b)\n",
    "    result = back_substitution(eliminated_mat, eliminated_b)\n",
    "    return result\n"
   ]
  },
  {
   "cell_type": "markdown",
   "metadata": {},
   "source": [
    "## Matrix Multiplication"
   ]
  },
  {
   "cell_type": "markdown",
   "metadata": {},
   "source": [
    "### Mulplication by row times column\n",
    "\n",
    "To get the result of row i and column j in the answer, multiply each item of row i of matrix A with each item of column j of matrix B and add them up.\n",
    "\n",
    "![image](https://github.com/yiheinchai/learn/assets/76833604/badd0f17-963f-42c4-bd7c-fe46c392955e)\n",
    "\n",
    "Notice that because we are multiplying the row of Matrix A with the column of Matrix B, the number of rows of Matrix A must be the same as the number of columns of Matrix B for it to work. Moreover, the result must have the same number of rows as Matrix A and the same number of columns of Matrix B.\n",
    "\n",
    "So if we have matrix A with shape m x n, and matrix B with shape n x p, then the result is m x p."
   ]
  },
  {
   "cell_type": "code",
   "execution_count": null,
   "metadata": {},
   "outputs": [],
   "source": [
    "def shape(mat):\n",
    "    return len(mat), len(mat[0])\n",
    "\n",
    "def mat_mul_row_col(mat1, mat2):\n",
    "    rows, cols = shape(mat1)\n",
    "    ans_mat = []\n",
    "    for i in range(rows):\n",
    "        ans_row = []\n",
    "        for j in range(cols):\n",
    "            row_mat = mat1[i]\n",
    "            col_mat = mat_invert(mat2)[j]\n",
    "            \n",
    "            cell_val = 0\n",
    "            for idx, row_val in enumerate(row_mat):\n",
    "                cell_val += row_val * col_mat[idx]\n",
    "\n",
    "            ans_row.append(cell_val)\n",
    "        ans_mat.append(ans_row)\n",
    "    return ans_mat\n",
    "                "
   ]
  },
  {
   "cell_type": "markdown",
   "metadata": {},
   "source": [
    "### Multiplication by columns\n",
    "\n",
    "The operator is on the righthand side of the matrix. Each column in the operator decides on the corresponding column of the answer. Each item in the column in the operator tells us the combinations of the columns of matrix A to use to generate the corresponding column in the answer.\n",
    "\n",
    "We can also see multiplicaiton of columns as each column of matrix B is multiplied by the entire matrix A (based on the instructed combinations), to produce the respective column in the answer matrix C.\n",
    "\n",
    "It is easy to see that because of this, the number of columns in the operator (matrix B) must be the same as the number of column in the answer. Moreover, the length of each column is henceforth determined by the length of the columns of matrix A, because we are simply taking combinations of matrix A.\n",
    "\n",
    "![image](https://github.com/yiheinchai/learn/assets/76833604/f0b33e22-4854-400a-8c4e-598a80585a20)"
   ]
  },
  {
   "cell_type": "code",
   "execution_count": null,
   "metadata": {},
   "outputs": [],
   "source": [
    "def mat_mul_col(mat1, mat2):\n",
    "    inv_mat1 = mat_invert(mat1)\n",
    "    inv_mat2 = mat_invert(mat2)\n",
    "\n",
    "    ans_mat = []\n",
    "\n",
    "    for col in inv_mat2:\n",
    "        new_cols = []\n",
    "        for idx, multiplier in enumerate(col):\n",
    "            new_cols.append([val * multiplier for val in inv_mat1[idx]])\n",
    "        ans_col = mat_add_col(new_cols)\n",
    "        ans_mat.append(ans_col)\n",
    "    \n",
    "    return mat_invert(ans_mat)"
   ]
  },
  {
   "cell_type": "markdown",
   "metadata": {},
   "source": [
    "### Multiplication by rows\n",
    "\n",
    "When looking at rows, the operator is the on the lefthand side of the matrix. Each row in the operator (matrix A) decides on the corresonding row of the answer. Each item in the row in the operator tells us the combinations of the rows of matrix B to use to generate the corresonding row in the answer.\n",
    "\n",
    "We cna also see multiplication of rows as each row of matrix A is multiplied by the entire matrix B (based on instructed combinations), to produce the respective row in the answer matrix C.\n",
    "\n",
    "It is easy to see that because of this, the number of rows in the operator (matrix A) must be hte same as the number of rows in the answer. Morover, the length of each row is henceforth determined by the lenght of the rows of matrix B, because we are simply taking combinations of matrix B.\n",
    "\n",
    "![image](https://github.com/yiheinchai/learn/assets/76833604/a298e452-4ba0-4f2b-a33b-074fd894ac17)"
   ]
  },
  {
   "cell_type": "code",
   "execution_count": null,
   "metadata": {},
   "outputs": [],
   "source": [
    "def mat_mul_row(mat1, mat2):\n",
    "    ans_mat = []\n",
    "    for row in mat1:\n",
    "        ans_row = []\n",
    "        for row_no, multiplier in enumerate(row):\n",
    "            ans_row.append([val * multiplier for val in mat2[row_no]])\n",
    "        ans_mat.append(mat_add_col(ans_row))\n",
    "    return ans_mat"
   ]
  },
  {
   "cell_type": "markdown",
   "metadata": {},
   "source": [
    "### Multiplication by columns x rows\n",
    "We can see multiplication as columns x rows, where we are simply taking combinations of a single column, which means that the answer will be multiples of the single column. Note that because of this property, we realise that all the rows vectors will lie on the same line, all the column vectors wil also lie on the same line (because they are simply multiples)\n",
    "\n",
    "![image](https://github.com/yiheinchai/learn/assets/76833604/f1811da7-4bc5-4ecc-ba42-dd5da8569f52)\n",
    "\n",
    "Applying this single operation to the entire matrix, we simply do (first column x first row) + (second column x second row) etc.\n",
    "\n",
    "![image](https://github.com/yiheinchai/learn/assets/76833604/9a799fdf-a6c4-4a62-8eb4-49453220f4a9)"
   ]
  },
  {
   "cell_type": "code",
   "execution_count": null,
   "metadata": {},
   "outputs": [],
   "source": [
    "def add_mats(*mats):\n",
    "    ans_mat = []\n",
    "    for row_no, row in enumerate(mats[0]):\n",
    "        ans_row = []\n",
    "        for col_no, col in enumerate(row):\n",
    "            cell_val = 0\n",
    "            for mat in mats:\n",
    "                cell_val += mat[row_no][col_no]\n",
    "            ans_row.append(cell_val)\n",
    "        ans_mat.append(ans_row)\n",
    "\n",
    "    return ans_mat\n",
    "\n",
    "\n",
    "def mat_mul_col_row(mat1, mat2):\n",
    "    ans_mats = []\n",
    "    for idx, col in enumerate(mat_invert(mat1)):\n",
    "        row = mat2[idx]\n",
    "        ans_mats.append(mat_mul([[val] for val in col], [row]))\n",
    "    \n",
    "    return add_mats(*ans_mats)\n"
   ]
  },
  {
   "cell_type": "markdown",
   "metadata": {},
   "source": [
    "### Multiplicaton by blocks\n",
    "\n",
    "We can also multiply matrices using a recurisve algorithm by splitting them up into blocks and multiplying the blocks using the same principles as multiplying numbers in matrices.\n",
    "\n",
    "![image](https://github.com/yiheinchai/learn/assets/76833604/47ad1395-6d83-42a7-b606-389a366ab858)"
   ]
  },
  {
   "cell_type": "code",
   "execution_count": null,
   "metadata": {},
   "outputs": [],
   "source": [
    "def split_mat(mat):\n",
    "    rows, cols = shape(mat)\n",
    "    return (\n",
    "       [[[row[: int((rows / 2))] for row in mat][: int((rows / 2))], # 0,0\n",
    "        [row[int((rows / 2)) :] for row in mat][: int((rows / 2))]], # 0,1\n",
    "        [[row[: int((rows / 2))] for row in mat][int((rows / 2)) :], # 1,0\n",
    "        [row[int((rows / 2)):] for row in mat][int((rows / 2)):]]] # 1,1\n",
    "    )\n",
    "\n",
    "def join_block_mat(block_mat):\n",
    "    joined_mat = []\n",
    "    for block_row in block_mat:\n",
    "        for mat_row_idx, mat_row in enumerate(block_row[0]):\n",
    "            # for each mat in block row, extract the rows and combine them in one row.\n",
    "            ans_row = []\n",
    "            for mat in block_row:\n",
    "              for val in mat[mat_row_idx]:\n",
    "                ans_row.append(val)\n",
    "            joined_mat.append(ans_row)\n",
    "    return joined_mat  \n",
    "\n",
    "def mat_mul_blocks(mat1, mat2):\n",
    "    rows, cols = shape(mat1)\n",
    "\n",
    "    if rows % 2 == 0 and rows > 2:\n",
    "        mat1_split = split_mat(mat1)\n",
    "        mat2_split = split_mat(mat2)\n",
    "        ans_mat = []\n",
    "        for row_i, row in enumerate(mat1_split):\n",
    "            ans_row = []\n",
    "          \n",
    "            for col_i, col in enumerate(row):\n",
    "                row_to_mul = mat1_split[row_i]\n",
    "                col_to_mul = mat_invert(mat2_split)[col_i]\n",
    "                added_mats = add_mats(*[mat_mul_blocks(row_item, col_to_mul[idx]) for idx, row_item in enumerate(row_to_mul)])\n",
    "                ans_row.append(added_mats)\n",
    "            ans_mat.append(ans_row)\n",
    "        return join_block_mat(ans_mat)\n",
    "    else:\n",
    "        return mat_mul(mat1, mat2)  "
   ]
  },
  {
   "cell_type": "markdown",
   "metadata": {},
   "source": [
    "## Inverses"
   ]
  },
  {
   "cell_type": "markdown",
   "metadata": {},
   "source": [
    "### Inverses basics\n",
    "\n",
    "A matrix will be invertible and nonsingular if an inverse exists for the matrix.\n",
    "\n",
    "A matrix will have an inverse if none of the vectors that make up the matrix is colinear to each other. This means that each vector in the matrix contians new information, there is no repeat information. If there are two vectors with repeat information, then it is not possibble to solve for the matrix and hence it is also not possible to find the inverse of the matrix.\n",
    "\n",
    "For example, for the matrix [[1,3] [5,15]], the two vectors [1,3] and [5,15] actually point in the exact same direction (colinear) and therefore it does not contain enough information for 2 variables, and hence this matrix is no solvable and does not have an inverse."
   ]
  },
  {
   "cell_type": "markdown",
   "metadata": {},
   "source": [
    "### Process of finding inverses"
   ]
  },
  {
   "cell_type": "markdown",
   "metadata": {},
   "source": [
    "The idea of elimination is simple, reduce the unknown by annilating variables. Use the equations with annilated variables to annilate more variables, until you have gotten isolated variables.\n",
    "\n",
    "It doesn't matter which line or which position you subtract from you can annilate in any direction as long as you achieve the goal of reaching a single isolated variable.\n",
    "\n",
    "Typically,\n",
    "Start with X number of variables. Annilate to get X-1 number of variables. Use equation with X-1 number of variables to annilate to get X-2 number of variables in the next equation. Eventually X-n = 1. With just 1 variable, you can find out what that is. Then use the 1 variable to eliminate upwards.\n",
    "\n",
    "This way, there is no need to do back substitution, just eliminate all the way. The benefit of using such a method is that we can derive a general algorithm that also works with Gauss-Jordan solutions to find the inverse of matrices.\n",
    "\n"
   ]
  },
  {
   "cell_type": "markdown",
   "metadata": {},
   "source": [
    "First, we need to modify `eliminate_mat` so that it accepts b as a matrix"
   ]
  },
  {
   "cell_type": "code",
   "execution_count": null,
   "metadata": {},
   "outputs": [],
   "source": [
    "def compose_aug_mat(mat, b):\n",
    "    return [[*row, *b[i]] for i, row in enumerate(mat)]\n",
    "\n",
    "def decompose_aug_mat(mat_b, b_cols):\n",
    "    inv_mat = mat_invert(mat_b)\n",
    "    b = []\n",
    "    for i in range(b_cols):\n",
    "        b.append(inv_mat.pop())\n",
    " \n",
    "    mat = mat_invert(inv_mat)\n",
    "    b = mat_invert(list(reversed(b)))\n",
    "\n",
    "    return mat, b\n",
    "\n",
    "def eliminate_mat(mat, b):\n",
    "    # pre-process to make sure the first pivot point is not zero\n",
    "    if mat[0][0] == 0 and mat[1][0] != 0:\n",
    "        temp = mat[1]\n",
    "        mat[1] = mat[0]\n",
    "        mat[0] = temp\n",
    "\n",
    "    pivot = mat[0][0]\n",
    "    curr_mat = mat\n",
    "    curr_b = b\n",
    "    for row_i, row_val in enumerate(mat_invert(mat)[0]):\n",
    "        if row_i == 0: continue\n",
    "\n",
    "        param = row_val / pivot\n",
    "        \n",
    "        # generate the first operator\n",
    "        operator = gen_identity_mat(mat)\n",
    "        operator[row_i][0] = -param\n",
    "\n",
    "        eliminated_mat_with_b = mat_mul(operator, compose_aug_mat(curr_mat, curr_b))\n",
    "\n",
    "        curr_mat, curr_b = decompose_aug_mat(eliminated_mat_with_b, len(b[0]))\n",
    "\n",
    "    max_row, max_col = len(mat) - 1, len(mat[0]) - 1\n",
    "\n",
    "    if max_col > 1 and max_row > 1:\n",
    "        first_row = curr_mat[0]\n",
    "        first_column = mat_invert(curr_mat)[0]\n",
    "\n",
    "        mat_subset = subset_mat(curr_mat)\n",
    "        eliminated_subset, b_subset = eliminate_mat(mat_subset, curr_b[1:])\n",
    "        return superset_mat(eliminated_subset, first_row, first_column), [curr_b[0], *b_subset]\n",
    "    else:\n",
    "        return curr_mat, curr_b"
   ]
  },
  {
   "cell_type": "markdown",
   "metadata": {},
   "source": [
    "Next we need to define a function that does reverse elimination, as a replacement of back substitution. We notice that if we do a double mirror of the eliminated matrix, we can apply the same recursive elimination algorithm to replace the need for back-substitution."
   ]
  },
  {
   "cell_type": "code",
   "execution_count": null,
   "metadata": {},
   "outputs": [],
   "source": [
    "def double_mirror_mat(mat):\n",
    "    return mat_invert(mat_invert(mat[::-1])[::-1])\n",
    "\n",
    "def reverse_eliminate_mat(mat, b):\n",
    "    # double reverse the matrix\n",
    "    double_reversed_b = double_mirror_mat(b)\n",
    "    double_reversed_mat = double_mirror_mat(mat)\n",
    "\n",
    "    # do gaussian elimination\n",
    "    eliminated_mat, eliminated_b = eliminate_mat(double_reversed_mat, double_reversed_b)\n",
    "\n",
    "    # return the matrix in the unmirrored form\n",
    "    return double_mirror_mat(eliminated_mat), double_mirror_mat(eliminated_b)\n"
   ]
  },
  {
   "cell_type": "markdown",
   "metadata": {},
   "source": [
    "Next, we noticed that the coefficients of the final matrix is not one, we simply define a function that moves all the coefficents from A, the matrix, to b the vector."
   ]
  },
  {
   "cell_type": "code",
   "execution_count": null,
   "metadata": {},
   "outputs": [],
   "source": [
    "def clean_coeff_mat(mat, b):\n",
    "    curr_b = []\n",
    "\n",
    "    for i, row in enumerate(mat):\n",
    "        coeff = next((x for i, x in enumerate(row) if x), None)\n",
    "        curr_b.append([ num / coeff for num in b[i]])\n",
    "\n",
    "    return gen_identity_mat(mat), curr_b"
   ]
  },
  {
   "cell_type": "markdown",
   "metadata": {},
   "source": [
    "Lastly, let's generate the new matrix solver! That support Gauss-Jordon style"
   ]
  },
  {
   "cell_type": "code",
   "execution_count": null,
   "metadata": {},
   "outputs": [],
   "source": [
    "def solve_mat(mat, b):\n",
    "    return clean_coeff_mat(*reverse_eliminate_mat(*eliminate_mat(mat, b)))"
   ]
  },
  {
   "cell_type": "markdown",
   "metadata": {},
   "source": [
    "Lastly, we can very simply generate a inverse finder by exploiting the properties of the matrix.\n",
    "\n",
    "We know that for a given matrix equation Ax = b. Let's make `b` a identity matrix. Ax = I. This means that x must be the inverse of A, A^-1. Therefore, if we solve for x via Gaussian elimination, we will find what is the inverse of A.\n",
    "\n",
    "As we solve for x, we use the matrix [A I] and apply a series of operations via elimination matrices, E. The result will be E [A I].\n",
    "\n",
    "We know that in our result we get `I` first. E[A I] = [I ?]\n",
    "We can rewrite this into blocks as [[EA] [EI]] = [[I] [?]].\n",
    "From this, it is obvious that EA = I. This implies that E must be A inverse to produce I.\n",
    "If E is A inverse, then EI must produce A inverse too. And therefore, the righthand side is [I A^-1].\n",
    "\n",
    "Knowing this property, we can use the new matrix solver, taking the `mat` as A, and `b` as I. Then, in the result answer, the `mat` returned will be I, and the `b` returned will be A^-1"
   ]
  },
  {
   "cell_type": "code",
   "execution_count": null,
   "metadata": {},
   "outputs": [],
   "source": [
    "def find_inverse(mat):\n",
    "    _, inverse_mat = solve_mat(mat, gen_identity_mat(mat))\n",
    "    return inverse_mat"
   ]
  },
  {
   "cell_type": "markdown",
   "metadata": {},
   "source": [
    "Looking back, the action of doing a double mirror and doing gaussian elimination again is particularly interesting. This is because the end result of such a process is that we transform A into I. This naturally means that the sequence of permutations steps that we took will be equivalent to A inverse (A^-1). Moreover, we can see that A^-1 x b = c\n",
    "\n",
    "E Ax = E b\n",
    "\n",
    "Ix = c\n",
    "\n",
    "therefore,\n",
    "\n",
    "E = A^-1\n",
    "\n",
    "c = A^-1 b\n",
    "\n",
    "Hence, this is actually a new way to find the inverse of a matrix, simply collect all the permutations, and multiply them together, and we will get the inverse"
   ]
  },
  {
   "cell_type": "markdown",
   "metadata": {},
   "source": [
    "## Factorisation into A = LU"
   ]
  },
  {
   "cell_type": "markdown",
   "metadata": {},
   "source": [
    "#### Finding inverses of matrix products\n",
    "\n",
    "The inverse of matrix A multiplied by matrix B is (B-1)(A-1) which expressed as the following:\n",
    "\n",
    "AB x B-1 A-1 = I\n",
    "\n",
    "Notice that B-1 comes first before A-1. Intuitively, we can see why this is the case. Also note that when multiplying matrices we can shift the parenthesis to choose which operation we want to do first. \n",
    "\n",
    "Therefore, (A)(B)(B-1)(A-1) = I can be first computed as:\n",
    "A(B B-1)A-1 = I\n",
    "AI A-1 = I\n",
    "A A-1 = I\n",
    "I = I\n",
    "\n",
    "Mentally, when you want to find the inverse of the a matrix multiplication, as yourself, what need to multiply to the matrix the annilate all the matrix to produce a identity matrix?\n",
    "\n",
    "So inverse of KYC will be C-1 (to annilate the last term), the Y-1 to annilate the second last term, and K-1 to annilate the first term. Hence, inverse if C-1 Y-1 K-1. No need to memorise that it is in opposite order, just consider what you need to multiply to annilate them, considering that you can move the parenthesis to multiply in whichever order you want.\n",
    "\n"
   ]
  },
  {
   "cell_type": "markdown",
   "metadata": {},
   "source": [
    "#### Finding inverses of transposed matrix\n",
    "\n",
    "To find the transpose of the inverse of A, you can simply find the inverse and then transpose it. Or, you can also simply find the transpose of A and find the inverse of the transpose.\n",
    "\n",
    "In general, it does not matter which order you do the inverse or the transpose.\n",
    "\n",
    "To prove it, consider:\n",
    "A A-1 = I\n",
    "\n",
    "Applying transpose to both sides,\n",
    "\n",
    "(A A^-1)^T = I^T\n",
    "\n",
    "Note that transpose of an identity matrix is still the identity matrix. <a id='transpose_inside'>Moreover, when applying the transpose individually to the terms in the bracket, the order flips.</a>\n",
    "\n",
    "A^-1^T A^T = I\n",
    "\n",
    "Note that the inverse of A^T will be denoted as A^T^-1. Moreover, A^-1^T must be also be the inverse of the transpose of the matrix because when you multiply it be the transpose you get the identity matrix.\n",
    "\n",
    "Therefore, A^T^-1 = A^-1^T, showing that you can do inverses or tranposes in any order.\n",
    "\n",
    "\n",
    "\n"
   ]
  },
  {
   "cell_type": "markdown",
   "metadata": {},
   "source": [
    "#### A = L U factorisation\n",
    "\n",
    "Normally in Gaussian elimination, we apply E to A to get U, where U is the upper triangular form which makes it easy to calculate x to solve the system of linear equations.\n",
    "\n",
    "E32 E21 Ex A = U\n",
    "\n",
    "We can collpase all E permutation matrices into one and find U in a single step like so:\n",
    "\n",
    "Eall A = U\n",
    "\n",
    "However, the problem here is that it is not immediately obvious the specific order in which the row operations are conducted by inspecting Eall. This is because the order of operations is reversed. \n",
    "\n",
    "Notice that when we are calculating Eall with E21 E13 E12, the latest permutation is always on the lefthand side and the first permuation is on the right hand side. This causes problems. \n",
    "\n",
    "![image](https://github.com/yiheinchai/learn/assets/76833604/d7212662-3b63-4482-9758-6c75d6c6cad5)\n"
   ]
  },
  {
   "cell_type": "markdown",
   "metadata": {},
   "source": [
    "Notice that E21 is means to modify the second row using upper rows (row 1). E32 is meant to modify the third row using upper rows, (row 2).\n",
    "\n",
    "Intuitively, E32 modifies the third row by using values of the second row, hence it has a multipler value in the third row. E21 modifies the values of the second row using values of the first row, hence it has multipler value in the second row. When we apply E32 to E21, we end up using the multipler value of the second row (-2) to modify the third row with another multiplier value (-5). This mixes up the permutations to produce an extra 10 in the final E. Where in fact, the individual operations did not include a 10 at all. Operations interfering with each other is not ideal as the final E is not representative of the operations that is carried out in each step of the Gaussian elimination.\n",
    "\n",
    "It is important to note that if we did the operations in the reverse direction, they will not interfere with each other, as the operations flow in the direction with no multiplier values, allowing for the final E to only include the multiplier values used in Gaussian elimination and no additional values are introduced. In other words, the multipliers go directly into E. \n",
    "\n",
    "But how do we do the permutations matrices in reverse order? A = L U factorisation solves this problem.\n",
    "\n",
    "\n"
   ]
  },
  {
   "cell_type": "markdown",
   "metadata": {},
   "source": [
    "![image](https://github.com/yiheinchai/learn/assets/76833604/c5ce3537-fe3f-4831-89d5-fc819531bca8)"
   ]
  },
  {
   "cell_type": "markdown",
   "metadata": {},
   "source": [
    "EA = U\n",
    "E-1 E A = E-1 U\n",
    "A = E-1 U\n",
    "\n",
    "E = E4 E3 E2\n",
    "E-1 = E2^-1 E3^-1 E4^-1 = L\n",
    "\n",
    "A = L U\n",
    "\n",
    "By using L instead of U, the permutation matrices are in the right order such that the multipliers do not interfere with each other and they keep their original values in the final L matrix.\n",
    "\n",
    "Particularly, E3-1 modifies row 3 using row 2 of E4-1, however row 2 of E4-1 does not contain any multipliers only the identity hence it would not interfere with E3-1 (the multiplier on E4^-1 is on row 3). Moreove,r E2^-1 modifies row 2 using row 1 of E3^-1, which only contains the identity and no multiplier. \n",
    "\n",
    "Notice that in L, apart from the identity matrix, only 2 and 5 are present, both of which are the core multipliers for each row operation in Gaussian elimination, there is no new values introduced, hence providing an accurate representation of the row operations that happen in Gaussian elimination."
   ]
  },
  {
   "cell_type": "markdown",
   "metadata": {},
   "source": [
    "##### Finding simple inverses\n",
    "\n",
    "It is very easy to find the inverse of simple permutation matrices. For example,\n",
    "\n",
    "[[1 0] [5 1]] this permutation matrix permutates the second row by adding 5 of the first row to the second row.\n",
    "\n",
    "Therefore to reverse the operation (to find the inverse E-1 E A = A), we simple minus 5 of the first row from the second row with the following permutation matrix: [[1 0] [-5 1]].\n",
    "\n",
    "Moreover, row exchange matrices are also very easy to find the inverse of.\n",
    "\n",
    "For example, [[0 1] [1 0]] this matrix exchanges the second row with the first row and the first row with the second row. To reverse this operation, we simply do the same operation again and this is swap the two rows back."
   ]
  },
  {
   "cell_type": "markdown",
   "metadata": {},
   "source": [
    "### Code for A = LU factorisation"
   ]
  },
  {
   "cell_type": "markdown",
   "metadata": {},
   "source": [
    "First we need to modify `eliminate_mat` such that it saves the multiplier in each elimination step. Remember that the general formula for a elimination step is,\n",
    "\n",
    "`target_row - multiplier(pivot row) = eliminated row`\n",
    "\n",
    "Moreover, we need to tag the multiplier to each particular target row. Every single target cell that is going to be converted into a zero would have a multiplier to do so."
   ]
  },
  {
   "cell_type": "code",
   "execution_count": null,
   "metadata": {},
   "outputs": [],
   "source": [
    "def eliminate_mat_with_factorisation(A, b):\n",
    "    pivot = A[0][0]\n",
    "    U = A\n",
    "    curr_b = b\n",
    "    curr_L = gen_identity_mat(A)\n",
    "    for row_i, row_val in enumerate(mat_invert(A)[0]):\n",
    "\n",
    "        # skip the first row as it is the pivot\n",
    "        if row_i == 0: continue\n",
    "\n",
    "        multiplier = row_val / pivot\n",
    "        \n",
    "        # generate the E\n",
    "        E = gen_identity_mat(A)\n",
    "        E[row_i][0] = -multiplier\n",
    "        \n",
    "        L = gen_identity_mat(A)\n",
    "        L[row_i][0] = multiplier\n",
    "      \n",
    "        curr_L = mat_mul(curr_L, L)\n",
    "\n",
    "        # EA = U\n",
    "        eliminated_mat_with_b = mat_mul(E, compose_aug_mat(U, curr_b))\n",
    "\n",
    "        U, curr_b = decompose_aug_mat(eliminated_mat_with_b, len(b[0]))\n",
    "\n",
    "    max_row, max_col = len(A) - 1, len(A[0]) - 1\n",
    "\n",
    "    if max_col > 1 and max_row > 1:\n",
    "        first_row = U[0]\n",
    "        first_column = mat_invert(U)[0]\n",
    "\n",
    "        first_row_l = curr_L[0]\n",
    "        first_column_l = mat_invert(curr_L)[0]\n",
    "\n",
    "        mat_subset = subset_mat(U)\n",
    "        eliminated_subset, b_subset, l_subset = eliminate_mat_with_factorisation(mat_subset, curr_b[1:])\n",
    "        return superset_mat(eliminated_subset, first_row, first_column), [curr_b[0], *b_subset], superset_mat(l_subset, first_row_l, first_column_l)\n",
    "    else:\n",
    "        return U, curr_b, curr_L"
   ]
  },
  {
   "cell_type": "code",
   "execution_count": null,
   "metadata": {},
   "outputs": [],
   "source": [
    "def factorise(A):\n",
    "    U, c, L =  eliminate_mat_with_factorisation(A, [1] * len(A))\n",
    "    return L, U"
   ]
  },
  {
   "cell_type": "markdown",
   "metadata": {},
   "source": [
    "### Time complexity on matrix multiplications\n",
    "\n",
    "As per previous implementatin of elimination as shown above, we use a recursive algorithm where we apply the same elimination steps to n-1 size matrix over and over again until we obtain a 2 x 2 matrix.\n",
    "\n",
    "Note that each elimination steps requires to make the entire column 0. So if each column has n rows, then we need to make n rows 0. Now to make each row 0, we need to use the multiplier on each item of the row and the subtract. Assuming the multiplication and subtraction can be considered as 1 operation, then if there are n items on each row, this means that there is n x n operations for the first elimination step for the first column.\n",
    "\n",
    "considering that there are n columns, this estimates to n x n x n or n^3 operations. However, we need to consider that every column this is less and less rows and columns because we only take a smaller subset of the matrix to do the elimination steps as shown below:\n",
    "\n",
    "![image](https://github.com/yiheinchai/learn/assets/76833604/8674c8ee-e27a-4533-ba2a-cc8bd8a5826e)\n",
    "\n",
    "So it looks something like:\n",
    "n^2 + (n-1)^2 + (n-2)^2 + ... 2^2\n",
    "\n",
    "To calculate this, we can integrate with respect to x from x=2 to x=n like this:\n",
    "\n",
    "integrate(x^2, from=2, to=n)\n",
    "\n",
    "The operation of integration entails adding one to the power and dividing by the new power, so integration of n^2 becomes 1/3 n^3. \n",
    "\n",
    "To calculate the time complexity of the right handside (b), because there is only 1 column, it becomes 1 x n x n when it is n^2."
   ]
  },
  {
   "cell_type": "markdown",
   "metadata": {},
   "source": [
    "## Transposes, Permutations"
   ]
  },
  {
   "cell_type": "markdown",
   "metadata": {},
   "source": [
    "### Permutations of identity matrices\n",
    "\n",
    "For a 3 x 3 identity matrix, there are 6 permutations by swapping the positions of the 3 rows round, 3 x 2 x 1 = 6. \n",
    "\n",
    "For a 4 x 4 identity matrix, there are 24 permutations by swapping the positions of the rows around.\n",
    "\n",
    "Note that multiplying any of the matrix with another withiin this group will always result in another matrix in the group. This is because since the group contains all permutations of swapping the rows around, and each item in the group applies an operation to swap the rows, multiplying one matrix of the group with another matrix of this same group will still result in the swapping of rows, which we know that the group already encompass all possiblities, and henceforth the resultant matrix will still be part of the group.\n",
    "\n",
    "Also note that the inverses of the matrix will also be itself, because the to reverse and exchange of rows, we simply do the exchange of rows again.\n",
    "\n",
    "A-1 = A"
   ]
  },
  {
   "cell_type": "markdown",
   "metadata": {},
   "source": [
    "![image](https://github.com/yiheinchai/learn/assets/76833604/0bc8e124-b696-431f-a781-01275ba996b8)"
   ]
  },
  {
   "cell_type": "markdown",
   "metadata": {},
   "source": [
    "However, if you are exchanging more than 2 rows at once, for example, changing the positions of all three rows, the inverse becomes more complicated. For example, these two are permutations which are inverses of each other:\n",
    "\n",
    "![image](https://github.com/yiheinchai/learn/assets/76833604/37b73ea1-2494-407d-8950-fe93a475bafc)\n",
    "\n",
    "Interestingly, in this case, the inverse of one permutation is also equal to the transpose of that permutation. \n",
    "\n",
    "Hence, A^-1 = A^T\n",
    "Consequently, A^T A = I\n",
    "\n",
    "Also notice that for row exchanges, the inverse is also the transpose. So the above equation applies to all permutations of a group."
   ]
  },
  {
   "cell_type": "markdown",
   "metadata": {},
   "source": [
    "#### Calculating the number of permutations"
   ]
  },
  {
   "cell_type": "markdown",
   "metadata": {},
   "source": [
    "Permutations are generated by taking the identity matrix and rearranging to rows. Therefore the number of permutations will be the number of ways of arranging the rows without repeats.\n",
    "\n",
    "This is a simple P&C problem, where if there are 5 rows, and we need to fill 5 slots, then the number of possible arrangements is 5! (factorial) = 120\n"
   ]
  },
  {
   "cell_type": "markdown",
   "metadata": {},
   "source": [
    "Noting that each permutation is a simple operation to do row exchanges, we can use these permutations to add to our algorithm for Gaussian elimination. Remember that there are some situations where there is a need for row exchanges - particularly when the pivot is a zero. We mentioned that this can be solved with A = L U, but that only applies for no row exchanges. When we have row exchanges, it becomes, PA = LU. And if we multiply the inverse on both sides, then we get, A = P^-1 L U, which is also A = P^T L U.\n",
    "\n"
   ]
  },
  {
   "cell_type": "markdown",
   "metadata": {},
   "source": [
    "### Transposes\n",
    "\n",
    "Transposes are simply the operation of converting the row i into column i and column j into row j. Basically, take column 1, make it row 1, take column 2, make it row 2 etc. OR take row 1, make it col 1, take row 2, make it col 2, etc..\n",
    "\n",
    "Formally, Aij = (A^T)ji\n",
    "\n",
    "Moreover, a matrix is said to be symmetric if A^T = A\n",
    "\n",
    "Additionally, taking the multiplication of the matrix and its transpose will always output a symmetric matrix. A A^T = symmetric matrix. To prove this, take the transpose of the symmetric matrix to see it is still gives us back the same symmetric matrix (A^T = A), if so, then we can be sure that it is indeed a symmetric matrix. \n",
    "\n",
    "(A A^T)^T\n",
    "\n",
    "Remember when applying the [transpose inside, we need to flip the order](#transpose_inside), \n",
    "\n",
    "A^T^T A^T = A A^T, which is the same matrix as we started with, hence proving that the multiplication of the transpose gives a symmetric matrix"
   ]
  },
  {
   "cell_type": "markdown",
   "metadata": {},
   "source": [
    "## Vector spaces"
   ]
  },
  {
   "cell_type": "markdown",
   "metadata": {},
   "source": [
    "R^2 are all two dimensional vectors that exist. For example [0 2] [7 219] [-323 0] etc.\n",
    "\n",
    "R^3 are all three dimensional vectors that exist.\n",
    "\n",
    "R^n are all n dimensional vectors that exist."
   ]
  },
  {
   "cell_type": "markdown",
   "metadata": {},
   "source": [
    "A vector space is a space where any multiplication of the vector by a multiple still causes it to stay within the same space. For example, a line that passes through the origin can be a vector space. In this case, any point when multiplied by a multiplier still remains on the line. Moreover, multiplying to vectors together from the line still results in a resultant vector that lies on the line. Hence, the line can be considers as a vector space.\n",
    "\n",
    "These are the 8 rules that a vector space must follow to be considered as a valid vector space:\n",
    "1. x + y = y + z\n",
    "2. x + (y + z) = (x + y) + z\n",
    "3. There is a unique 'zero vector' such that x + 0 =  x for all x\n",
    "4. For each x there is a unique vector -x such that x + (-x) = 0\n",
    "5. 1 times x equals x\n",
    "6. (c1c2)x = c1(c2 x)\n",
    "7. c(x + y) = cx + cy\n",
    "8. (c1 + c2)x = c1x + c2x\n",
    "\n",
    "Intuitively, a vector space:\n",
    "1. Add any two vectors from the vector space, the resultant vector must still lie in the vector space\n",
    "2. Take any combination of the vector space, the resultant vector must still lie in the vector space"
   ]
  },
  {
   "cell_type": "markdown",
   "metadata": {},
   "source": [
    "Subspaces are vector spaces inside of a vector space. R2 is a vector space. A line is a 1 dimensional subspace in R2. Note that subspaces are vector spaces. In general, anything with the word 'space' can be considered as a vector space.\n",
    "\n",
    "It must be note that all vector spaces and subspaces must pass through the origin. This is because if it does not pass through the orign, the multiplying a vector in the subspace with another vector in the same subspace will not result in a resultant vector that still remains in the subspace.\n",
    "\n",
    "For the vector space R2, there are the following subspaces:\n",
    "1. R2 itself (2 dimensions)\n",
    "2. Line in R2 passing through the origin (1 dimension)\n",
    "3. Zero vector (0 dimension)\n",
    "\n",
    "Notice that the zero vector is also a vector space because you can multiply by itself to get itself, you can also multiply by any multiplier and you will still get itself so it stays within that zero vector space.\n",
    "Moreover, you notice that the subspaces can be classified as n-1 less and less dimensions.\n",
    "\n",
    "\n",
    "Additionally, combining two subspaces for example a plane (P) and a line (L) passing through the origin does not give you a new subspace. This is because multiplying a point in on the line and a point on the plane, might cause the resultant vector to be in a location outside the line or the plane. However,  if the line lies on the plane, then the combination of the line and a plane does give you a subspace. If the line lies on the plane, then the line is a subspace of the plane. So basically, it is as if you just consider the plane, and of course the plane is a subspace."
   ]
  },
  {
   "cell_type": "markdown",
   "metadata": {},
   "source": [
    "### Column space"
   ]
  },
  {
   "cell_type": "markdown",
   "metadata": {},
   "source": [
    "A column space is generated by taking a few column vectors from a vector space. Then all the linear combinations of the column vectors form its own subspace.\n",
    "Notice that because we are taking all linear combination to define the subspace, we notice that if we multiply the column vectors by a multiple, if we add them up together, the resultant vector will still lie in the subspace, and hence the linear combinations of the column vectors can be considered as its own subspace.\n",
    "\n"
   ]
  },
  {
   "cell_type": "markdown",
   "metadata": {},
   "source": [
    "Given 4 equations (4 rows, 3 columns) and 3 unknowns, there are only certain b in which the equation can be solved.\n",
    "\n",
    "![image](https://github.com/yiheinchai/learn/assets/76833604/15da5d47-2acf-4c20-8c35-6e481021ce45)\n",
    "\n",
    "If b is all zeroes then it can be solved easily as x is simply 0.\n",
    "If b is in one of the 3 columns, then the solution is simply take 1 of the columns and none of the rest. More generally, if b is any linear combination of the 3 columns then it can be solved, because x is simply the multiplier to get the right combinations to find b. Therefore, we can say that b is a subspace of its own as it is a linear combination of the columns of matrix A.\n",
    "\n",
    "In other words, we can solve Ax = b exactly when b is in the column space of A. Intuitively, the column space contains all vectors A multipled by any x OR the column space contains any linear combination of columns of A. Therefore if b is one of the linear combination of the columns of A, then it can be solved.\n",
    "\n",
    "The column space of matrix A is denoted as C(A)"
   ]
  },
  {
   "cell_type": "markdown",
   "metadata": {},
   "source": [
    "### Nullspace"
   ]
  },
  {
   "cell_type": "markdown",
   "metadata": {},
   "source": [
    "![image](https://github.com/yiheinchai/learn/assets/76833604/911a5f01-badb-4c71-acb2-2ee92d863ca9)"
   ]
  },
  {
   "cell_type": "markdown",
   "metadata": {},
   "source": [
    "Given 4 equations (4 rows, 3 columns) and 3 unknowns, and the b is a zero vector. What are the solutions of x in which this can be solved.\n",
    "\n",
    "If x is all zeroes then it can be easily solved as 0 of all columns give you 0.\n",
    "To get b = 0 (zero vector), x needs to be a linear combination of columns of A which gives a zero vector. In this case, the solutions to this equation are all linear combinations of columns of A which gives a zero vector. This is a null space.\n",
    "\n",
    "In this case, the null space is c[1 1 -1], where c is any multiplier. You notice that you can give c any number and the resulting vector is still 0. You can plot [1 1 -1] in R^3 which gives a point. Then c[1 1 -1] gives a line, because by changing the value of c, you get all values on the line. Hence, in this case, the null space is a line through R3. This is illustrated as follows:\n",
    "\n",
    "![image](https://github.com/yiheinchai/learn/assets/76833604/66d30dd0-44fb-4660-9fa0-34d51883afe9)\n",
    "\n",
    "The null space of matrix A is denoted as N(A).\n",
    "\n",
    "In order to prove that the solutions to Ax = 0 always give a subspace, we need to prove that we can add any two vectors that solve Ax = 0, and the solution is still within the subspace (ie. the solution also fulfils Ax = 0).\n",
    "\n",
    "Aw = 0 and Av = 0, where w and v are different vectors which solves the equation, then,\n",
    "\n",
    "A (w + v) = 0\n",
    "\n",
    "Using the distributive law in matrices,\n",
    "\n",
    "Aw + Av = 0\n",
    "\n",
    "Therefore, substituing Aw and Av, we get 0 + 0 = 0 which is correct.\n",
    "\n",
    "Next, the prove that the solutions to Ax = 0 always give a subspace, we need to prove that we can multiply the vector that solves Ax = 0 by any multiplier, and the resultant vector is still within the subspace (ie. the solution also fulfils Ax = 0).\n",
    "\n",
    "Aw = 0\n",
    "A(12w) = 0\n",
    "\n",
    "As scalars can be moved outside, \n",
    "\n",
    "12 A(w) = 0\n",
    "\n",
    "Substituting w in, we get 12 (0) = 0 which is correct."
   ]
  },
  {
   "cell_type": "markdown",
   "metadata": {},
   "source": [
    "#### Non-null spaces?\n",
    "\n",
    "An interesting point here to note is that all solutions to Ax = 0 forms a subspace. But does all solutions to a certain b form a subspace too? Ax = [1,2,3,4]?\n",
    "\n",
    "The answer is no, because if x = [0, 0, 0], the solution fails and we remember that all vector spaces must pass through the origin.\n",
    "\n",
    "There might be many solutions that solves Ax = [1,2,3,4] and all those solutions will visualised as a line or a plane, however, the line and plane will not pass through the origin, and there cannot be subspace. This is because when you add two vectors on a plane that does not pass through the origin, the result will be out of the plane. This is because the vectors start from the origin, so if the plane passes through the origin, the all vectors of the plane will be parallel and colinear to the plane. However, if the plane does not pass through the origin, then the vectors on the plane are no longer parallel and this will lead to the resultant vector to be out of the plane when adding."
   ]
  },
  {
   "cell_type": "markdown",
   "metadata": {},
   "source": [
    "### Overview of columnspace and nullspaces\n",
    "\n",
    "In columnspaces, to determine it we built it up. We start with columns, and we add all linear combinations will become the columnspace. This is like the bottom-up approach.\n",
    "In nullspaces, we first define an equation Ax = 0, and we say all vectors the fulfill this equation will become the nullspace. This is like a top-down approach."
   ]
  },
  {
   "cell_type": "markdown",
   "metadata": {},
   "source": [
    "## Solving Ax = 0"
   ]
  },
  {
   "cell_type": "markdown",
   "metadata": {},
   "source": [
    "### Solving for a rectagular matrix"
   ]
  },
  {
   "cell_type": "markdown",
   "metadata": {},
   "source": [
    "Here, our goal is to solve for the equation Ax = 0, where A is a rectangular matrix\n",
    "\n",
    "We can apply the same elimination steps to a rectangular matrix (remember that we had previously only applied elimination to square matrices). In this case, we simply convert all cells below the pivot to 0 and then move to the next column.\n",
    "\n",
    "![image](https://github.com/yiheinchai/learn/assets/76833604/3a389c3d-f7f5-49ff-9a90-9714702a0bcd)\n",
    "\n",
    "We take note of the number of pivots that we have used. The number of pivots used is called the rank of Matrix A.\n",
    "\n",
    "The pivot columns are the columns in which we have a pivot and used row exchanges.\n",
    "\n",
    "Free columns are columns in which we did not need to have a pivot or have row exchanges because the values are already all zero.\n",
    "\n",
    "![image](https://github.com/yiheinchai/learn/assets/76833604/b3633250-c7c8-4658-b92a-6186ad3c62ac)\n",
    "\n",
    "After doing elimination to arrive at the echelon form, we can then do back substitution to find the values of x which solves for Ax = 0. This value is part of the nullspace. Moreover any multiple of the vector will also be part of the nullspace. Moreover, we can keep changing the values of the two free variables to any number and solve it to get more and more vectors of the nullspace.\n",
    "\n",
    "However, there are certain special solutions in the nullspace which you can use to get all other vectors in the nullspace. For example, you set one of the free variables to 1 and the other to 0. So you just get all the combinations of zeroes and 1 of the free variables. The nullspace vectors that you get are special solutions (or elemental vectors). Taking the linear combination of these special solutions will give you the entire nullspace.\n",
    "\n",
    "Here, [-2 1 0 0] and [2 0 -2 1] are the two special solutions and the linear combinations, by adding a multiplier c and multiplier d will give the entire nullspace: \n",
    "\n",
    "![image](https://github.com/yiheinchai/learn/assets/76833604/8d26dda5-a212-4f70-9ada-5fefbc26ce1c)\n",
    "\n",
    "\n"
   ]
  },
  {
   "cell_type": "markdown",
   "metadata": {},
   "source": [
    "The number of special solutions available is equal to the number of free columns. The number of free columns is calculated based by `total_cols - pivot cols`.\n",
    "\n",
    "In this case, as there are two free cols, then the maximum number special solutions is 2."
   ]
  },
  {
   "cell_type": "markdown",
   "metadata": {},
   "source": [
    "### Using reduced row echelon form"
   ]
  },
  {
   "cell_type": "markdown",
   "metadata": {},
   "source": [
    "The reduced echelon form has zeroes above and below the pivots. And it also has the pivots as 1. We can achieve the reduced row echelon form by doing more permutations.\n",
    "\n",
    "After reducing U into the reduced echelon form, R, we notice and interesting obsevation. R conforms to the format [I F], where I is an identity matrix which is formed by the pivot columns (remmeber we had to make the pivots 1 and anything above and below 0 to get the R form ,so we arrive at the identity matrix). F is a matrix made up of the free columns. \n",
    "\n",
    "[I F]\n",
    "\n",
    "[0 0]\n",
    "\n",
    "![image](https://github.com/yiheinchai/learn/assets/76833604/27ed04d2-a901-448b-b02a-0828a60ffe84)\n",
    "\n",
    "\n",
    "![image](https://github.com/yiheinchai/learn/assets/76833604/bd47e5a3-c5fa-4322-b54f-8b79f6920048)\n",
    "\n",
    "Now, to find the nullspace vector, we simply take negative of the free columns and the identity matrix at the bottom.\n",
    "\n",
    "![image](https://github.com/yiheinchai/learn/assets/76833604/9d9e5630-f658-40da-a173-55829e1a0c93)"
   ]
  },
  {
   "cell_type": "markdown",
   "metadata": {},
   "source": [
    "This method with the reduced row echelon form makes it much easier to find the nullspace and does not require any back substitution.\n",
    "\n",
    "Combining the solution together, we can verify if the solution indeed equals zero by multiplying the reduced matrix, R, with the solutions to x together.\n",
    "\n",
    "![image](https://github.com/yiheinchai/learn/assets/76833604/3923fda5-c0d7-4737-b3ce-ccbced414394)\n",
    "\n",
    "And we expect that the solution to be 0. So Xpivot + F (Xfree) = 0"
   ]
  },
  {
   "cell_type": "markdown",
   "metadata": {},
   "source": [
    "### Code to find nullspace"
   ]
  },
  {
   "cell_type": "markdown",
   "metadata": {},
   "source": [
    "First, we need to modify the `eliminate_mat` function to support rectangular matrices. However, in the process of doing so, we need to update the permutation matrix to support rectangular matrices. In particular, we need to use the size of the row to determine the size of the identity matrix which will form the permutation matrix. Hence, we first update the `gen_identity_mat` function."
   ]
  },
  {
   "cell_type": "code",
   "execution_count": null,
   "metadata": {},
   "outputs": [],
   "source": [
    "def gen_identity_mat(mat):\n",
    "  max_row= len(mat) - 1\n",
    "  i_mat = []\n",
    "  for i_col in range(max_row + 1):\n",
    "    row = []\n",
    "    for i_row in range(max_row + 1):\n",
    "      if i_row == i_col:\n",
    "        row.append(1)\n",
    "      else:\n",
    "        row.append(0)\n",
    "    i_mat.append(row)\n",
    "  return i_mat"
   ]
  },
  {
   "cell_type": "markdown",
   "metadata": {},
   "source": [
    "Moreover, remember we mentioned that PA = LU solves for elimination with the row exchange step. We now need to implement a new function which generates the permutation matrix that does row exchanges."
   ]
  },
  {
   "cell_type": "code",
   "execution_count": null,
   "metadata": {},
   "outputs": [],
   "source": [
    "def gen_permutation_mat(mat, from_row, to_row):\n",
    "    I = gen_identity_mat(mat)\n",
    "    temp_row = I[to_row]\n",
    "    I[to_row] = I[from_row]\n",
    "    I[from_row] = temp_row\n",
    "\n",
    "    return I\n"
   ]
  },
  {
   "cell_type": "markdown",
   "metadata": {},
   "source": [
    "Next, we also need to add some logic to find the index of the column that is no zero so as to exchange it"
   ]
  },
  {
   "cell_type": "code",
   "execution_count": null,
   "metadata": {},
   "outputs": [],
   "source": [
    "def find_non_zero_index(column):\n",
    "    return next((i for i, x in enumerate(column) if x), None)"
   ]
  },
  {
   "cell_type": "markdown",
   "metadata": {},
   "source": [
    "Now, we update the `eliminate_mat` function with those changes. Additionally, we need to modify out subset algorithm. Particularly, when we encounter a free column, we need to skip the free column and take the next column as the subset while retaining the number of rows. \n",
    "\n",
    "For example, normally, with each iteration we decrease the size of the subset matrix by 1 column size and 1 row size. However, if we encounter a free column, we need to make sure that the next subset matrix does this includes the current row instead of subtracting 1 row. This is because that row was supposed to have a variable eliminated, but due to the free column, it did not have a variable eliminated, so we still need to eliminate the variable in that row."
   ]
  },
  {
   "cell_type": "code",
   "execution_count": null,
   "metadata": {},
   "outputs": [],
   "source": [
    "def eliminate_mat_no_aug(mat):\n",
    "    pivot = mat[0][0]\n",
    "    curr_mat = mat\n",
    "    is_free_column = False\n",
    "\n",
    "    # code to exchange rows if the pivot is zero\n",
    "    if pivot == 0:\n",
    "        non_zero_index = find_non_zero_index(mat_invert(curr_mat)[0])\n",
    "\n",
    "        if non_zero_index is not None:\n",
    "            swap_rows_permutation = gen_permutation_mat(curr_mat, 0, non_zero_index)\n",
    "            curr_mat = mat_mul(swap_rows_permutation, curr_mat)\n",
    "            pivot = curr_mat[0][0]\n",
    "\n",
    "        else:\n",
    "            is_free_column = True\n",
    "\n",
    "    if pivot != 0:\n",
    "        for row_i, row_val in enumerate(mat_invert(curr_mat)[0]):\n",
    "            if row_i == 0 or row_val == 0 : continue\n",
    "\n",
    "            param = row_val / pivot\n",
    "            # generate the first operator\n",
    "            operator = gen_identity_mat(mat)\n",
    "            operator[row_i][0] = -param\n",
    "\n",
    "            curr_mat = mat_mul(operator, curr_mat)\n",
    "\n",
    "    max_row, max_col = len(mat) - 1, len(mat[0]) - 1\n",
    "\n",
    "    if max_col > 1 and max_row > 1 and not is_free_column:\n",
    "        first_row = curr_mat[0]\n",
    "        first_column = mat_invert(curr_mat)[0]\n",
    "\n",
    "        mat_subset = subset_mat(curr_mat)\n",
    "        eliminated_subset = eliminate_mat_no_aug(mat_subset)\n",
    "\n",
    "        curr_mat = superset_mat(eliminated_subset, first_row,\n",
    "                            first_column)\n",
    "    elif is_free_column:\n",
    "        first_column = mat_invert(curr_mat)[0]\n",
    "\n",
    "        # the subset should only skip the free column, do not subtract any rows in subset\n",
    "        mat_subset = mat_invert(mat_invert(curr_mat)[1:])\n",
    "        eliminated_subset = eliminate_mat_no_aug(mat_subset)\n",
    "\n",
    "        curr_mat = mat_invert([first_column, *mat_invert(eliminated_subset)])\n",
    "\n",
    "    return curr_mat\n"
   ]
  },
  {
   "cell_type": "markdown",
   "metadata": {},
   "source": [
    "With the next `eliminate_mat` function, we can implement the rref algorithm. We first need to identify the free columns and the pivot columns. This can be easily identified, if we find a column that does not have the natural n-1 zero step, then it must be the free column."
   ]
  },
  {
   "cell_type": "code",
   "execution_count": null,
   "metadata": {},
   "outputs": [],
   "source": [
    "def rref(A):\n",
    "    U = eliminate_mat_no_aug(A)\n",
    "    E = "
   ]
  }
 ],
 "metadata": {
  "language_info": {
   "name": "python"
  },
  "orig_nbformat": 4
 },
 "nbformat": 4,
 "nbformat_minor": 2
}
